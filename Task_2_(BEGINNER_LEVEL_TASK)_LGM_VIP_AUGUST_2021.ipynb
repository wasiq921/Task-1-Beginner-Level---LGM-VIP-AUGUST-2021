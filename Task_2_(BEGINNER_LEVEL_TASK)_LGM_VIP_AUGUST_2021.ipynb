{
  "nbformat": 4,
  "nbformat_minor": 0,
  "metadata": {
    "kernelspec": {
      "display_name": "Python 3",
      "language": "python",
      "name": "python3"
    },
    "language_info": {
      "codemirror_mode": {
        "name": "ipython",
        "version": 3
      },
      "file_extension": ".py",
      "mimetype": "text/x-python",
      "name": "python",
      "nbconvert_exporter": "python",
      "pygments_lexer": "ipython3",
      "version": "3.8.5"
    },
    "colab": {
      "name": "Task # 2 (BEGINNER LEVEL TASK) - LGM VIP AUGUST 2021.ipynb",
      "provenance": [],
      "collapsed_sections": [],
      "include_colab_link": true
    }
  },
  "cells": [
    {
      "cell_type": "markdown",
      "metadata": {
        "id": "view-in-github",
        "colab_type": "text"
      },
      "source": [
        "<a href=\"https://colab.research.google.com/github/wasiq921/Task-1-Beginner-Level---LGM-VIP-AUGUST-2021/blob/main/Task_2_(BEGINNER_LEVEL_TASK)_LGM_VIP_AUGUST_2021.ipynb\" target=\"_parent\"><img src=\"https://colab.research.google.com/assets/colab-badge.svg\" alt=\"Open In Colab\"/></a>"
      ]
    },
    {
      "cell_type": "markdown",
      "metadata": {
        "id": "51fC2NlJ2aKE"
      },
      "source": [
        "#                Task 2 Stock Market Prediction And Forecasting Using Stacked LSTM (Beginner Level)\n",
        "\n",
        "\n",
        "## Author: Muhammad Wasiq\n",
        "\n",
        "### LGM VIP AUGUST 2021\n",
        "\n",
        "\n",
        "##### Dataset Link - https://raw.githubusercontent.com/mwitiderrick/stockprice/master/NSE-TATAGLOBAL.csv"
      ]
    },
    {
      "cell_type": "markdown",
      "metadata": {
        "id": "MoYyC73J2aKH"
      },
      "source": [
        "#### Importing the necessary libraries"
      ]
    },
    {
      "cell_type": "code",
      "metadata": {
        "id": "IKZeTowj2aKK"
      },
      "source": [
        "import matplotlib.pyplot as plt\n",
        "import numpy as np \n",
        "import pandas as pd\n",
        "import warnings\n",
        "warnings.filterwarnings('ignore')"
      ],
      "execution_count": null,
      "outputs": []
    },
    {
      "cell_type": "markdown",
      "metadata": {
        "id": "hW4H8vgB2aLQ"
      },
      "source": [
        "#### Reading the dataset from the link "
      ]
    },
    {
      "cell_type": "code",
      "metadata": {
        "id": "Kz4_4EsK2aLR"
      },
      "source": [
        "link='https://raw.githubusercontent.com/mwitiderrick/stockprice/master/NSE-TATAGLOBAL.csv'\n",
        "df=pd.read_csv(link,index_col=0)"
      ],
      "execution_count": null,
      "outputs": []
    },
    {
      "cell_type": "code",
      "metadata": {
        "colab": {
          "base_uri": "https://localhost:8080/",
          "height": 450
        },
        "id": "oZMAYWE62aLS",
        "outputId": "23e59a49-9f01-4ae9-9008-eb67e7a3992a"
      },
      "source": [
        "df"
      ],
      "execution_count": null,
      "outputs": [
        {
          "output_type": "execute_result",
          "data": {
            "text/html": [
              "<div>\n",
              "<style scoped>\n",
              "    .dataframe tbody tr th:only-of-type {\n",
              "        vertical-align: middle;\n",
              "    }\n",
              "\n",
              "    .dataframe tbody tr th {\n",
              "        vertical-align: top;\n",
              "    }\n",
              "\n",
              "    .dataframe thead th {\n",
              "        text-align: right;\n",
              "    }\n",
              "</style>\n",
              "<table border=\"1\" class=\"dataframe\">\n",
              "  <thead>\n",
              "    <tr style=\"text-align: right;\">\n",
              "      <th></th>\n",
              "      <th>Open</th>\n",
              "      <th>High</th>\n",
              "      <th>Low</th>\n",
              "      <th>Last</th>\n",
              "      <th>Close</th>\n",
              "      <th>Total Trade Quantity</th>\n",
              "      <th>Turnover (Lacs)</th>\n",
              "    </tr>\n",
              "    <tr>\n",
              "      <th>Date</th>\n",
              "      <th></th>\n",
              "      <th></th>\n",
              "      <th></th>\n",
              "      <th></th>\n",
              "      <th></th>\n",
              "      <th></th>\n",
              "      <th></th>\n",
              "    </tr>\n",
              "  </thead>\n",
              "  <tbody>\n",
              "    <tr>\n",
              "      <th>2018-09-28</th>\n",
              "      <td>234.05</td>\n",
              "      <td>235.95</td>\n",
              "      <td>230.20</td>\n",
              "      <td>233.50</td>\n",
              "      <td>233.75</td>\n",
              "      <td>3069914</td>\n",
              "      <td>7162.35</td>\n",
              "    </tr>\n",
              "    <tr>\n",
              "      <th>2018-09-27</th>\n",
              "      <td>234.55</td>\n",
              "      <td>236.80</td>\n",
              "      <td>231.10</td>\n",
              "      <td>233.80</td>\n",
              "      <td>233.25</td>\n",
              "      <td>5082859</td>\n",
              "      <td>11859.95</td>\n",
              "    </tr>\n",
              "    <tr>\n",
              "      <th>2018-09-26</th>\n",
              "      <td>240.00</td>\n",
              "      <td>240.00</td>\n",
              "      <td>232.50</td>\n",
              "      <td>235.00</td>\n",
              "      <td>234.25</td>\n",
              "      <td>2240909</td>\n",
              "      <td>5248.60</td>\n",
              "    </tr>\n",
              "    <tr>\n",
              "      <th>2018-09-25</th>\n",
              "      <td>233.30</td>\n",
              "      <td>236.75</td>\n",
              "      <td>232.00</td>\n",
              "      <td>236.25</td>\n",
              "      <td>236.10</td>\n",
              "      <td>2349368</td>\n",
              "      <td>5503.90</td>\n",
              "    </tr>\n",
              "    <tr>\n",
              "      <th>2018-09-24</th>\n",
              "      <td>233.55</td>\n",
              "      <td>239.20</td>\n",
              "      <td>230.75</td>\n",
              "      <td>234.00</td>\n",
              "      <td>233.30</td>\n",
              "      <td>3423509</td>\n",
              "      <td>7999.55</td>\n",
              "    </tr>\n",
              "    <tr>\n",
              "      <th>...</th>\n",
              "      <td>...</td>\n",
              "      <td>...</td>\n",
              "      <td>...</td>\n",
              "      <td>...</td>\n",
              "      <td>...</td>\n",
              "      <td>...</td>\n",
              "      <td>...</td>\n",
              "    </tr>\n",
              "    <tr>\n",
              "      <th>2010-07-27</th>\n",
              "      <td>117.60</td>\n",
              "      <td>119.50</td>\n",
              "      <td>112.00</td>\n",
              "      <td>118.80</td>\n",
              "      <td>118.65</td>\n",
              "      <td>586100</td>\n",
              "      <td>694.98</td>\n",
              "    </tr>\n",
              "    <tr>\n",
              "      <th>2010-07-26</th>\n",
              "      <td>120.10</td>\n",
              "      <td>121.00</td>\n",
              "      <td>117.10</td>\n",
              "      <td>117.10</td>\n",
              "      <td>117.60</td>\n",
              "      <td>658440</td>\n",
              "      <td>780.01</td>\n",
              "    </tr>\n",
              "    <tr>\n",
              "      <th>2010-07-23</th>\n",
              "      <td>121.80</td>\n",
              "      <td>121.95</td>\n",
              "      <td>120.25</td>\n",
              "      <td>120.35</td>\n",
              "      <td>120.65</td>\n",
              "      <td>281312</td>\n",
              "      <td>340.31</td>\n",
              "    </tr>\n",
              "    <tr>\n",
              "      <th>2010-07-22</th>\n",
              "      <td>120.30</td>\n",
              "      <td>122.00</td>\n",
              "      <td>120.25</td>\n",
              "      <td>120.75</td>\n",
              "      <td>120.90</td>\n",
              "      <td>293312</td>\n",
              "      <td>355.17</td>\n",
              "    </tr>\n",
              "    <tr>\n",
              "      <th>2010-07-21</th>\n",
              "      <td>122.10</td>\n",
              "      <td>123.00</td>\n",
              "      <td>121.05</td>\n",
              "      <td>121.10</td>\n",
              "      <td>121.55</td>\n",
              "      <td>658666</td>\n",
              "      <td>803.56</td>\n",
              "    </tr>\n",
              "  </tbody>\n",
              "</table>\n",
              "<p>2035 rows × 7 columns</p>\n",
              "</div>"
            ],
            "text/plain": [
              "              Open    High  ...  Total Trade Quantity  Turnover (Lacs)\n",
              "Date                        ...                                       \n",
              "2018-09-28  234.05  235.95  ...               3069914          7162.35\n",
              "2018-09-27  234.55  236.80  ...               5082859         11859.95\n",
              "2018-09-26  240.00  240.00  ...               2240909          5248.60\n",
              "2018-09-25  233.30  236.75  ...               2349368          5503.90\n",
              "2018-09-24  233.55  239.20  ...               3423509          7999.55\n",
              "...            ...     ...  ...                   ...              ...\n",
              "2010-07-27  117.60  119.50  ...                586100           694.98\n",
              "2010-07-26  120.10  121.00  ...                658440           780.01\n",
              "2010-07-23  121.80  121.95  ...                281312           340.31\n",
              "2010-07-22  120.30  122.00  ...                293312           355.17\n",
              "2010-07-21  122.10  123.00  ...                658666           803.56\n",
              "\n",
              "[2035 rows x 7 columns]"
            ]
          },
          "metadata": {
            "tags": []
          },
          "execution_count": 4
        }
      ]
    },
    {
      "cell_type": "markdown",
      "metadata": {
        "id": "Y2xs7gFU2aLV"
      },
      "source": [
        "#### Plotting the graph of open price"
      ]
    },
    {
      "cell_type": "code",
      "metadata": {
        "colab": {
          "base_uri": "https://localhost:8080/",
          "height": 351
        },
        "id": "_apq7QUg2aLW",
        "outputId": "9da46c73-a0fc-4ea9-903b-7ad2ad633ebd"
      },
      "source": [
        "df['Open'].plot(figsize=(15,5))"
      ],
      "execution_count": null,
      "outputs": [
        {
          "output_type": "execute_result",
          "data": {
            "text/plain": [
              "<matplotlib.axes._subplots.AxesSubplot at 0x7f69395443d0>"
            ]
          },
          "metadata": {
            "tags": []
          },
          "execution_count": 5
        },
        {
          "output_type": "display_data",
          "data": {
            "image/png": "[encoded data removed]",
            "text/plain": [
              "<Figure size 1080x360 with 1 Axes>"
            ]
          },
          "metadata": {
            "tags": [],
            "needs_background": "light"
          }
        }
      ]
    },
    {
      "cell_type": "code",
      "metadata": {
        "colab": {
          "base_uri": "https://localhost:8080/"
        },
        "id": "Do20FZPL2aLY",
        "outputId": "45744dc9-7022-418d-fa7e-caae9ee8e0e4"
      },
      "source": [
        "df.shape"
      ],
      "execution_count": null,
      "outputs": [
        {
          "output_type": "execute_result",
          "data": {
            "text/plain": [
              "(2035, 7)"
            ]
          },
          "metadata": {
            "tags": []
          },
          "execution_count": 6
        }
      ]
    },
    {
      "cell_type": "markdown",
      "metadata": {
        "id": "kc129t7e2aLb"
      },
      "source": [
        "#### Seperating the data for training and testing purpose"
      ]
    },
    {
      "cell_type": "code",
      "metadata": {
        "id": "TL14tFbH2aLc"
      },
      "source": [
        "df_training=df.iloc[:int(len(df)*0.75), ]\n",
        "df_testing=df.iloc[int(len(df)*0.75):, ]"
      ],
      "execution_count": null,
      "outputs": []
    },
    {
      "cell_type": "code",
      "metadata": {
        "colab": {
          "base_uri": "https://localhost:8080/"
        },
        "id": "pLwitYbh2aLd",
        "outputId": "a501b785-85a4-416e-860a-bbe1a7a5f225"
      },
      "source": [
        "print('Training dataset shape',df_training.shape)\n",
        "print('Testing dataset shape',df_testing.shape)"
      ],
      "execution_count": null,
      "outputs": [
        {
          "output_type": "stream",
          "text": [
            "Training dataset shape (1526, 7)\n",
            "Testing dataset shape (509, 7)\n"
          ],
          "name": "stdout"
        }
      ]
    },
    {
      "cell_type": "code",
      "metadata": {
        "colab": {
          "base_uri": "https://localhost:8080/",
          "height": 450
        },
        "id": "Y-_AXBKb2aLf",
        "outputId": "38348658-0a34-4276-b59e-7bb17df8b12a"
      },
      "source": [
        "df_training"
      ],
      "execution_count": null,
      "outputs": [
        {
          "output_type": "execute_result",
          "data": {
            "text/html": [
              "<div>\n",
              "<style scoped>\n",
              "    .dataframe tbody tr th:only-of-type {\n",
              "        vertical-align: middle;\n",
              "    }\n",
              "\n",
              "    .dataframe tbody tr th {\n",
              "        vertical-align: top;\n",
              "    }\n",
              "\n",
              "    .dataframe thead th {\n",
              "        text-align: right;\n",
              "    }\n",
              "</style>\n",
              "<table border=\"1\" class=\"dataframe\">\n",
              "  <thead>\n",
              "    <tr style=\"text-align: right;\">\n",
              "      <th></th>\n",
              "      <th>Open</th>\n",
              "      <th>High</th>\n",
              "      <th>Low</th>\n",
              "      <th>Last</th>\n",
              "      <th>Close</th>\n",
              "      <th>Total Trade Quantity</th>\n",
              "      <th>Turnover (Lacs)</th>\n",
              "    </tr>\n",
              "    <tr>\n",
              "      <th>Date</th>\n",
              "      <th></th>\n",
              "      <th></th>\n",
              "      <th></th>\n",
              "      <th></th>\n",
              "      <th></th>\n",
              "      <th></th>\n",
              "      <th></th>\n",
              "    </tr>\n",
              "  </thead>\n",
              "  <tbody>\n",
              "    <tr>\n",
              "      <th>2018-09-28</th>\n",
              "      <td>234.05</td>\n",
              "      <td>235.95</td>\n",
              "      <td>230.20</td>\n",
              "      <td>233.50</td>\n",
              "      <td>233.75</td>\n",
              "      <td>3069914</td>\n",
              "      <td>7162.35</td>\n",
              "    </tr>\n",
              "    <tr>\n",
              "      <th>2018-09-27</th>\n",
              "      <td>234.55</td>\n",
              "      <td>236.80</td>\n",
              "      <td>231.10</td>\n",
              "      <td>233.80</td>\n",
              "      <td>233.25</td>\n",
              "      <td>5082859</td>\n",
              "      <td>11859.95</td>\n",
              "    </tr>\n",
              "    <tr>\n",
              "      <th>2018-09-26</th>\n",
              "      <td>240.00</td>\n",
              "      <td>240.00</td>\n",
              "      <td>232.50</td>\n",
              "      <td>235.00</td>\n",
              "      <td>234.25</td>\n",
              "      <td>2240909</td>\n",
              "      <td>5248.60</td>\n",
              "    </tr>\n",
              "    <tr>\n",
              "      <th>2018-09-25</th>\n",
              "      <td>233.30</td>\n",
              "      <td>236.75</td>\n",
              "      <td>232.00</td>\n",
              "      <td>236.25</td>\n",
              "      <td>236.10</td>\n",
              "      <td>2349368</td>\n",
              "      <td>5503.90</td>\n",
              "    </tr>\n",
              "    <tr>\n",
              "      <th>2018-09-24</th>\n",
              "      <td>233.55</td>\n",
              "      <td>239.20</td>\n",
              "      <td>230.75</td>\n",
              "      <td>234.00</td>\n",
              "      <td>233.30</td>\n",
              "      <td>3423509</td>\n",
              "      <td>7999.55</td>\n",
              "    </tr>\n",
              "    <tr>\n",
              "      <th>...</th>\n",
              "      <td>...</td>\n",
              "      <td>...</td>\n",
              "      <td>...</td>\n",
              "      <td>...</td>\n",
              "      <td>...</td>\n",
              "      <td>...</td>\n",
              "      <td>...</td>\n",
              "    </tr>\n",
              "    <tr>\n",
              "      <th>2012-08-03</th>\n",
              "      <td>129.45</td>\n",
              "      <td>132.25</td>\n",
              "      <td>129.10</td>\n",
              "      <td>130.85</td>\n",
              "      <td>131.15</td>\n",
              "      <td>2754756</td>\n",
              "      <td>3612.75</td>\n",
              "    </tr>\n",
              "    <tr>\n",
              "      <th>2012-08-02</th>\n",
              "      <td>125.95</td>\n",
              "      <td>130.90</td>\n",
              "      <td>125.95</td>\n",
              "      <td>130.30</td>\n",
              "      <td>130.05</td>\n",
              "      <td>3704533</td>\n",
              "      <td>4800.89</td>\n",
              "    </tr>\n",
              "    <tr>\n",
              "      <th>2012-08-01</th>\n",
              "      <td>126.70</td>\n",
              "      <td>129.30</td>\n",
              "      <td>126.20</td>\n",
              "      <td>127.35</td>\n",
              "      <td>127.05</td>\n",
              "      <td>1645936</td>\n",
              "      <td>2105.27</td>\n",
              "    </tr>\n",
              "    <tr>\n",
              "      <th>2012-07-31</th>\n",
              "      <td>120.00</td>\n",
              "      <td>128.00</td>\n",
              "      <td>120.00</td>\n",
              "      <td>127.40</td>\n",
              "      <td>127.00</td>\n",
              "      <td>3491456</td>\n",
              "      <td>4418.68</td>\n",
              "    </tr>\n",
              "    <tr>\n",
              "      <th>2012-07-30</th>\n",
              "      <td>121.00</td>\n",
              "      <td>123.35</td>\n",
              "      <td>119.15</td>\n",
              "      <td>122.75</td>\n",
              "      <td>122.65</td>\n",
              "      <td>1301962</td>\n",
              "      <td>1587.04</td>\n",
              "    </tr>\n",
              "  </tbody>\n",
              "</table>\n",
              "<p>1526 rows × 7 columns</p>\n",
              "</div>"
            ],
            "text/plain": [
              "              Open    High  ...  Total Trade Quantity  Turnover (Lacs)\n",
              "Date                        ...                                       \n",
              "2018-09-28  234.05  235.95  ...               3069914          7162.35\n",
              "2018-09-27  234.55  236.80  ...               5082859         11859.95\n",
              "2018-09-26  240.00  240.00  ...               2240909          5248.60\n",
              "2018-09-25  233.30  236.75  ...               2349368          5503.90\n",
              "2018-09-24  233.55  239.20  ...               3423509          7999.55\n",
              "...            ...     ...  ...                   ...              ...\n",
              "2012-08-03  129.45  132.25  ...               2754756          3612.75\n",
              "2012-08-02  125.95  130.90  ...               3704533          4800.89\n",
              "2012-08-01  126.70  129.30  ...               1645936          2105.27\n",
              "2012-07-31  120.00  128.00  ...               3491456          4418.68\n",
              "2012-07-30  121.00  123.35  ...               1301962          1587.04\n",
              "\n",
              "[1526 rows x 7 columns]"
            ]
          },
          "metadata": {
            "tags": []
          },
          "execution_count": 9
        }
      ]
    },
    {
      "cell_type": "code",
      "metadata": {
        "colab": {
          "base_uri": "https://localhost:8080/",
          "height": 450
        },
        "id": "It-ZTruU2aLj",
        "outputId": "edc74f54-acb1-445c-cbb9-61482a116f03"
      },
      "source": [
        "df_testing"
      ],
      "execution_count": null,
      "outputs": [
        {
          "output_type": "execute_result",
          "data": {
            "text/html": [
              "<div>\n",
              "<style scoped>\n",
              "    .dataframe tbody tr th:only-of-type {\n",
              "        vertical-align: middle;\n",
              "    }\n",
              "\n",
              "    .dataframe tbody tr th {\n",
              "        vertical-align: top;\n",
              "    }\n",
              "\n",
              "    .dataframe thead th {\n",
              "        text-align: right;\n",
              "    }\n",
              "</style>\n",
              "<table border=\"1\" class=\"dataframe\">\n",
              "  <thead>\n",
              "    <tr style=\"text-align: right;\">\n",
              "      <th></th>\n",
              "      <th>Open</th>\n",
              "      <th>High</th>\n",
              "      <th>Low</th>\n",
              "      <th>Last</th>\n",
              "      <th>Close</th>\n",
              "      <th>Total Trade Quantity</th>\n",
              "      <th>Turnover (Lacs)</th>\n",
              "    </tr>\n",
              "    <tr>\n",
              "      <th>Date</th>\n",
              "      <th></th>\n",
              "      <th></th>\n",
              "      <th></th>\n",
              "      <th></th>\n",
              "      <th></th>\n",
              "      <th></th>\n",
              "      <th></th>\n",
              "    </tr>\n",
              "  </thead>\n",
              "  <tbody>\n",
              "    <tr>\n",
              "      <th>2012-07-27</th>\n",
              "      <td>120.0</td>\n",
              "      <td>123.95</td>\n",
              "      <td>119.80</td>\n",
              "      <td>120.65</td>\n",
              "      <td>120.65</td>\n",
              "      <td>2010264</td>\n",
              "      <td>2453.32</td>\n",
              "    </tr>\n",
              "    <tr>\n",
              "      <th>2012-07-26</th>\n",
              "      <td>120.0</td>\n",
              "      <td>123.25</td>\n",
              "      <td>119.30</td>\n",
              "      <td>120.00</td>\n",
              "      <td>120.05</td>\n",
              "      <td>2495002</td>\n",
              "      <td>3012.91</td>\n",
              "    </tr>\n",
              "    <tr>\n",
              "      <th>2012-07-25</th>\n",
              "      <td>123.0</td>\n",
              "      <td>125.00</td>\n",
              "      <td>119.00</td>\n",
              "      <td>120.65</td>\n",
              "      <td>120.80</td>\n",
              "      <td>2974617</td>\n",
              "      <td>3618.35</td>\n",
              "    </tr>\n",
              "    <tr>\n",
              "      <th>2012-07-24</th>\n",
              "      <td>115.0</td>\n",
              "      <td>124.15</td>\n",
              "      <td>115.00</td>\n",
              "      <td>123.00</td>\n",
              "      <td>123.40</td>\n",
              "      <td>4358964</td>\n",
              "      <td>5276.56</td>\n",
              "    </tr>\n",
              "    <tr>\n",
              "      <th>2012-07-23</th>\n",
              "      <td>118.0</td>\n",
              "      <td>119.40</td>\n",
              "      <td>115.00</td>\n",
              "      <td>116.00</td>\n",
              "      <td>115.65</td>\n",
              "      <td>871954</td>\n",
              "      <td>1022.95</td>\n",
              "    </tr>\n",
              "    <tr>\n",
              "      <th>...</th>\n",
              "      <td>...</td>\n",
              "      <td>...</td>\n",
              "      <td>...</td>\n",
              "      <td>...</td>\n",
              "      <td>...</td>\n",
              "      <td>...</td>\n",
              "      <td>...</td>\n",
              "    </tr>\n",
              "    <tr>\n",
              "      <th>2010-07-27</th>\n",
              "      <td>117.6</td>\n",
              "      <td>119.50</td>\n",
              "      <td>112.00</td>\n",
              "      <td>118.80</td>\n",
              "      <td>118.65</td>\n",
              "      <td>586100</td>\n",
              "      <td>694.98</td>\n",
              "    </tr>\n",
              "    <tr>\n",
              "      <th>2010-07-26</th>\n",
              "      <td>120.1</td>\n",
              "      <td>121.00</td>\n",
              "      <td>117.10</td>\n",
              "      <td>117.10</td>\n",
              "      <td>117.60</td>\n",
              "      <td>658440</td>\n",
              "      <td>780.01</td>\n",
              "    </tr>\n",
              "    <tr>\n",
              "      <th>2010-07-23</th>\n",
              "      <td>121.8</td>\n",
              "      <td>121.95</td>\n",
              "      <td>120.25</td>\n",
              "      <td>120.35</td>\n",
              "      <td>120.65</td>\n",
              "      <td>281312</td>\n",
              "      <td>340.31</td>\n",
              "    </tr>\n",
              "    <tr>\n",
              "      <th>2010-07-22</th>\n",
              "      <td>120.3</td>\n",
              "      <td>122.00</td>\n",
              "      <td>120.25</td>\n",
              "      <td>120.75</td>\n",
              "      <td>120.90</td>\n",
              "      <td>293312</td>\n",
              "      <td>355.17</td>\n",
              "    </tr>\n",
              "    <tr>\n",
              "      <th>2010-07-21</th>\n",
              "      <td>122.1</td>\n",
              "      <td>123.00</td>\n",
              "      <td>121.05</td>\n",
              "      <td>121.10</td>\n",
              "      <td>121.55</td>\n",
              "      <td>658666</td>\n",
              "      <td>803.56</td>\n",
              "    </tr>\n",
              "  </tbody>\n",
              "</table>\n",
              "<p>509 rows × 7 columns</p>\n",
              "</div>"
            ],
            "text/plain": [
              "             Open    High  ...  Total Trade Quantity  Turnover (Lacs)\n",
              "Date                       ...                                       \n",
              "2012-07-27  120.0  123.95  ...               2010264          2453.32\n",
              "2012-07-26  120.0  123.25  ...               2495002          3012.91\n",
              "2012-07-25  123.0  125.00  ...               2974617          3618.35\n",
              "2012-07-24  115.0  124.15  ...               4358964          5276.56\n",
              "2012-07-23  118.0  119.40  ...                871954          1022.95\n",
              "...           ...     ...  ...                   ...              ...\n",
              "2010-07-27  117.6  119.50  ...                586100           694.98\n",
              "2010-07-26  120.1  121.00  ...                658440           780.01\n",
              "2010-07-23  121.8  121.95  ...                281312           340.31\n",
              "2010-07-22  120.3  122.00  ...                293312           355.17\n",
              "2010-07-21  122.1  123.00  ...                658666           803.56\n",
              "\n",
              "[509 rows x 7 columns]"
            ]
          },
          "metadata": {
            "tags": []
          },
          "execution_count": 10
        }
      ]
    },
    {
      "cell_type": "code",
      "metadata": {
        "colab": {
          "base_uri": "https://localhost:8080/"
        },
        "id": "ZlkNqRqZ2aLl",
        "outputId": "cd445e37-2da4-4f7c-dc79-8b44c52ddccc"
      },
      "source": [
        "training_set=df_training.iloc[:, 0:1].values\n",
        "training_set"
      ],
      "execution_count": null,
      "outputs": [
        {
          "output_type": "execute_result",
          "data": {
            "text/plain": [
              "array([[234.05],\n",
              "       [234.55],\n",
              "       [240.  ],\n",
              "       ...,\n",
              "       [126.7 ],\n",
              "       [120.  ],\n",
              "       [121.  ]])"
            ]
          },
          "metadata": {
            "tags": []
          },
          "execution_count": 11
        }
      ]
    },
    {
      "cell_type": "markdown",
      "metadata": {
        "id": "BHf3FFNr2aLn"
      },
      "source": [
        "#### Scaling the data for the LSTM "
      ]
    },
    {
      "cell_type": "code",
      "metadata": {
        "id": "4V5h0to22aLq"
      },
      "source": [
        "from sklearn.preprocessing import MinMaxScaler\n",
        "scaler=MinMaxScaler(feature_range=(0,1))\n",
        "training_set_scaled=scaler.fit_transform(training_set)"
      ],
      "execution_count": null,
      "outputs": []
    },
    {
      "cell_type": "code",
      "metadata": {
        "colab": {
          "base_uri": "https://localhost:8080/"
        },
        "id": "LJEsOWfb2aLr",
        "outputId": "7bb4cab5-9c59-4d05-b81d-c5eee76d02b1"
      },
      "source": [
        "training_set_scaled"
      ],
      "execution_count": null,
      "outputs": [
        {
          "output_type": "execute_result",
          "data": {
            "text/plain": [
              "array([[0.58322207],\n",
              "       [0.58544726],\n",
              "       [0.60970182],\n",
              "       ...,\n",
              "       [0.10547397],\n",
              "       [0.07565643],\n",
              "       [0.08010681]])"
            ]
          },
          "metadata": {
            "tags": []
          },
          "execution_count": 13
        }
      ]
    },
    {
      "cell_type": "markdown",
      "metadata": {
        "id": "Bn7OOHYA2aLt"
      },
      "source": [
        "### In LSTM ,we have to take inputs as timestamp and I am taking of 60."
      ]
    },
    {
      "cell_type": "code",
      "metadata": {
        "id": "bgP9RHjD2aLv"
      },
      "source": [
        "x_train=[]\n",
        "y_train=[]\n",
        "for i in range(60,len(df_training)):\n",
        "    x_train.append(training_set_scaled[i-60:i,0])\n",
        "    y_train.append(training_set_scaled[i, 0])\n",
        "x_train,y_train=np.array(x_train),np.array(y_train)\n"
      ],
      "execution_count": null,
      "outputs": []
    },
    {
      "cell_type": "markdown",
      "metadata": {
        "id": "ApS_DeAb2aMi"
      },
      "source": [
        "#### Reshaping the data to feed into the LSTM model"
      ]
    },
    {
      "cell_type": "code",
      "metadata": {
        "id": "mUbuyrFW2aMj"
      },
      "source": [
        "x_train=x_train.reshape(x_train.shape[0],x_train.shape[1],1)"
      ],
      "execution_count": null,
      "outputs": []
    },
    {
      "cell_type": "markdown",
      "metadata": {
        "id": "euMrgj3O2aMk"
      },
      "source": [
        "### Now, I am importing all the necessary libraries for LSTM and fitting the data into the model"
      ]
    },
    {
      "cell_type": "code",
      "metadata": {
        "colab": {
          "base_uri": "https://localhost:8080/"
        },
        "id": "qSrWuAU72aMm",
        "outputId": "211c5270-920f-414a-e130-7b7c60164a92"
      },
      "source": [
        "import tensorflow as tf\n",
        "from tensorflow import keras\n",
        "from tensorflow.keras.models import Sequential\n",
        "from tensorflow.keras.layers import LSTM\n",
        "from tensorflow.keras.layers import Dropout\n",
        "from tensorflow.keras.layers import Dense\n",
        "regressor=Sequential([\n",
        "    LSTM(60,return_sequences=True,input_shape=(x_train.shape[1],1)),\n",
        "    Dropout(0.3),\n",
        "    LSTM(60,return_sequences=True),\n",
        "    Dropout(0.3),\n",
        "    LSTM(60,return_sequences=True),\n",
        "    Dropout(0.3),\n",
        "    LSTM(60,return_sequences=True),\n",
        "    Dropout(0.3),\n",
        "    LSTM(60,return_sequences=False),\n",
        "    Dropout(0.3),\n",
        "    Dense(1)\n",
        "])\n",
        "regressor.compile(optimizer='adam',loss='mean_squared_error')\n",
        "regressor.fit(x_train,y_train,epochs=100,batch_size=64)"
      ],
      "execution_count": null,
      "outputs": [
        {
          "output_type": "stream",
          "text": [
            "Epoch 1/100\n",
            "23/23 [==============================] - 12s 205ms/step - loss: 0.0192\n",
            "Epoch 2/100\n",
            "23/23 [==============================] - 5s 203ms/step - loss: 0.0055\n",
            "Epoch 3/100\n",
            "23/23 [==============================] - 5s 206ms/step - loss: 0.0047\n",
            "Epoch 4/100\n",
            "23/23 [==============================] - 5s 205ms/step - loss: 0.0049\n",
            "Epoch 5/100\n",
            "23/23 [==============================] - 5s 209ms/step - loss: 0.0042\n",
            "Epoch 6/100\n",
            "23/23 [==============================] - 5s 208ms/step - loss: 0.0039\n",
            "Epoch 7/100\n",
            "23/23 [==============================] - 5s 206ms/step - loss: 0.0035\n",
            "Epoch 8/100\n",
            "23/23 [==============================] - 5s 204ms/step - loss: 0.0039\n",
            "Epoch 9/100\n",
            "23/23 [==============================] - 5s 204ms/step - loss: 0.0038\n",
            "Epoch 10/100\n",
            "23/23 [==============================] - 5s 203ms/step - loss: 0.0037\n",
            "Epoch 11/100\n",
            "23/23 [==============================] - 5s 203ms/step - loss: 0.0042\n",
            "Epoch 12/100\n",
            "23/23 [==============================] - 5s 203ms/step - loss: 0.0040\n",
            "Epoch 13/100\n",
            "23/23 [==============================] - 5s 205ms/step - loss: 0.0039\n",
            "Epoch 14/100\n",
            "23/23 [==============================] - 5s 200ms/step - loss: 0.0034\n",
            "Epoch 15/100\n",
            "23/23 [==============================] - 5s 200ms/step - loss: 0.0030\n",
            "Epoch 16/100\n",
            "23/23 [==============================] - 5s 209ms/step - loss: 0.0029\n",
            "Epoch 17/100\n",
            "23/23 [==============================] - 5s 203ms/step - loss: 0.0031\n",
            "Epoch 18/100\n",
            "23/23 [==============================] - 5s 201ms/step - loss: 0.0028\n",
            "Epoch 19/100\n",
            "23/23 [==============================] - 5s 206ms/step - loss: 0.0025\n",
            "Epoch 20/100\n",
            "23/23 [==============================] - 5s 210ms/step - loss: 0.0025\n",
            "Epoch 21/100\n",
            "23/23 [==============================] - 5s 205ms/step - loss: 0.0025\n",
            "Epoch 22/100\n",
            "23/23 [==============================] - 5s 212ms/step - loss: 0.0035\n",
            "Epoch 23/100\n",
            "23/23 [==============================] - 5s 211ms/step - loss: 0.0029\n",
            "Epoch 24/100\n",
            "23/23 [==============================] - 5s 206ms/step - loss: 0.0030\n",
            "Epoch 25/100\n",
            "23/23 [==============================] - 5s 200ms/step - loss: 0.0027\n",
            "Epoch 26/100\n",
            "23/23 [==============================] - 5s 210ms/step - loss: 0.0025\n",
            "Epoch 27/100\n",
            "23/23 [==============================] - 5s 201ms/step - loss: 0.0023\n",
            "Epoch 28/100\n",
            "23/23 [==============================] - 5s 202ms/step - loss: 0.0024\n",
            "Epoch 29/100\n",
            "23/23 [==============================] - 5s 207ms/step - loss: 0.0024\n",
            "Epoch 30/100\n",
            "23/23 [==============================] - 5s 203ms/step - loss: 0.0022\n",
            "Epoch 31/100\n",
            "23/23 [==============================] - 5s 201ms/step - loss: 0.0023\n",
            "Epoch 32/100\n",
            "23/23 [==============================] - 5s 202ms/step - loss: 0.0025\n",
            "Epoch 33/100\n",
            "23/23 [==============================] - 5s 207ms/step - loss: 0.0024\n",
            "Epoch 34/100\n",
            "23/23 [==============================] - 5s 203ms/step - loss: 0.0022\n",
            "Epoch 35/100\n",
            "23/23 [==============================] - 5s 203ms/step - loss: 0.0024\n",
            "Epoch 36/100\n",
            "23/23 [==============================] - 5s 203ms/step - loss: 0.0022\n",
            "Epoch 37/100\n",
            "23/23 [==============================] - 5s 202ms/step - loss: 0.0022\n",
            "Epoch 38/100\n",
            "23/23 [==============================] - 5s 206ms/step - loss: 0.0021\n",
            "Epoch 39/100\n",
            "23/23 [==============================] - 5s 202ms/step - loss: 0.0022\n",
            "Epoch 40/100\n",
            "23/23 [==============================] - 5s 204ms/step - loss: 0.0022\n",
            "Epoch 41/100\n",
            "23/23 [==============================] - 5s 204ms/step - loss: 0.0022\n",
            "Epoch 42/100\n",
            "23/23 [==============================] - 5s 210ms/step - loss: 0.0021\n",
            "Epoch 43/100\n",
            "23/23 [==============================] - 5s 207ms/step - loss: 0.0019\n",
            "Epoch 44/100\n",
            "23/23 [==============================] - 5s 204ms/step - loss: 0.0021\n",
            "Epoch 45/100\n",
            "23/23 [==============================] - 5s 202ms/step - loss: 0.0020\n",
            "Epoch 46/100\n",
            "23/23 [==============================] - 5s 201ms/step - loss: 0.0020\n",
            "Epoch 47/100\n",
            "23/23 [==============================] - 5s 203ms/step - loss: 0.0019\n",
            "Epoch 48/100\n",
            "23/23 [==============================] - 5s 199ms/step - loss: 0.0021\n",
            "Epoch 49/100\n",
            "23/23 [==============================] - 5s 212ms/step - loss: 0.0021\n",
            "Epoch 50/100\n",
            "23/23 [==============================] - 5s 201ms/step - loss: 0.0020\n",
            "Epoch 51/100\n",
            "23/23 [==============================] - 5s 205ms/step - loss: 0.0017\n",
            "Epoch 52/100\n",
            "23/23 [==============================] - 5s 198ms/step - loss: 0.0016\n",
            "Epoch 53/100\n",
            "23/23 [==============================] - 5s 201ms/step - loss: 0.0020\n",
            "Epoch 54/100\n",
            "23/23 [==============================] - 5s 201ms/step - loss: 0.0020\n",
            "Epoch 55/100\n",
            "23/23 [==============================] - 5s 202ms/step - loss: 0.0018\n",
            "Epoch 56/100\n",
            "23/23 [==============================] - 5s 206ms/step - loss: 0.0018\n",
            "Epoch 57/100\n",
            "23/23 [==============================] - 5s 205ms/step - loss: 0.0018\n",
            "Epoch 58/100\n",
            "23/23 [==============================] - 5s 204ms/step - loss: 0.0018\n",
            "Epoch 59/100\n",
            "23/23 [==============================] - 5s 201ms/step - loss: 0.0015\n",
            "Epoch 60/100\n",
            "23/23 [==============================] - 5s 202ms/step - loss: 0.0016\n",
            "Epoch 61/100\n",
            "23/23 [==============================] - 5s 209ms/step - loss: 0.0016\n",
            "Epoch 62/100\n",
            "23/23 [==============================] - 5s 200ms/step - loss: 0.0016\n",
            "Epoch 63/100\n",
            "23/23 [==============================] - 5s 202ms/step - loss: 0.0018\n",
            "Epoch 64/100\n",
            "23/23 [==============================] - 5s 202ms/step - loss: 0.0014\n",
            "Epoch 65/100\n",
            "23/23 [==============================] - 5s 201ms/step - loss: 0.0014\n",
            "Epoch 66/100\n",
            "23/23 [==============================] - 5s 202ms/step - loss: 0.0015\n",
            "Epoch 67/100\n",
            "23/23 [==============================] - 5s 204ms/step - loss: 0.0015\n",
            "Epoch 68/100\n",
            "23/23 [==============================] - 5s 206ms/step - loss: 0.0013\n",
            "Epoch 69/100\n",
            "23/23 [==============================] - 5s 204ms/step - loss: 0.0013\n",
            "Epoch 70/100\n",
            "23/23 [==============================] - 5s 204ms/step - loss: 0.0013\n",
            "Epoch 71/100\n",
            "23/23 [==============================] - 5s 209ms/step - loss: 0.0014\n",
            "Epoch 72/100\n",
            "23/23 [==============================] - 5s 205ms/step - loss: 0.0020\n",
            "Epoch 73/100\n",
            "23/23 [==============================] - 5s 199ms/step - loss: 0.0013\n",
            "Epoch 74/100\n",
            "23/23 [==============================] - 5s 201ms/step - loss: 0.0015\n",
            "Epoch 75/100\n",
            "23/23 [==============================] - 5s 201ms/step - loss: 0.0015\n",
            "Epoch 76/100\n",
            "23/23 [==============================] - 5s 198ms/step - loss: 0.0015\n",
            "Epoch 77/100\n",
            "23/23 [==============================] - 5s 203ms/step - loss: 0.0014\n",
            "Epoch 78/100\n",
            "23/23 [==============================] - 5s 204ms/step - loss: 0.0014\n",
            "Epoch 79/100\n",
            "23/23 [==============================] - 5s 202ms/step - loss: 0.0016\n",
            "Epoch 80/100\n",
            "23/23 [==============================] - 5s 206ms/step - loss: 0.0014\n",
            "Epoch 81/100\n",
            "23/23 [==============================] - 5s 201ms/step - loss: 0.0013\n",
            "Epoch 82/100\n",
            "23/23 [==============================] - 5s 201ms/step - loss: 0.0014\n",
            "Epoch 83/100\n",
            "23/23 [==============================] - 5s 206ms/step - loss: 0.0014\n",
            "Epoch 84/100\n",
            "23/23 [==============================] - 5s 211ms/step - loss: 0.0013\n",
            "Epoch 85/100\n",
            "23/23 [==============================] - 5s 205ms/step - loss: 0.0014\n",
            "Epoch 86/100\n",
            "23/23 [==============================] - 5s 207ms/step - loss: 0.0013\n",
            "Epoch 87/100\n",
            "23/23 [==============================] - 5s 202ms/step - loss: 0.0012\n",
            "Epoch 88/100\n",
            "23/23 [==============================] - 5s 201ms/step - loss: 0.0012\n",
            "Epoch 89/100\n",
            "23/23 [==============================] - 5s 200ms/step - loss: 0.0012\n",
            "Epoch 90/100\n",
            "23/23 [==============================] - 5s 202ms/step - loss: 0.0013\n",
            "Epoch 91/100\n",
            "23/23 [==============================] - 5s 201ms/step - loss: 0.0013\n",
            "Epoch 92/100\n",
            "23/23 [==============================] - 5s 203ms/step - loss: 0.0012\n",
            "Epoch 93/100\n",
            "23/23 [==============================] - 5s 205ms/step - loss: 0.0012\n",
            "Epoch 94/100\n",
            "23/23 [==============================] - 5s 201ms/step - loss: 0.0012\n",
            "Epoch 95/100\n",
            "23/23 [==============================] - 5s 201ms/step - loss: 0.0012\n",
            "Epoch 96/100\n",
            "23/23 [==============================] - 5s 208ms/step - loss: 0.0014\n",
            "Epoch 97/100\n",
            "23/23 [==============================] - 5s 207ms/step - loss: 0.0013\n",
            "Epoch 98/100\n",
            "23/23 [==============================] - 5s 207ms/step - loss: 0.0012\n",
            "Epoch 99/100\n",
            "23/23 [==============================] - 5s 206ms/step - loss: 0.0012\n",
            "Epoch 100/100\n",
            "23/23 [==============================] - 5s 201ms/step - loss: 0.0013\n"
          ],
          "name": "stdout"
        },
        {
          "output_type": "execute_result",
          "data": {
            "text/plain": [
              "<tensorflow.python.keras.callbacks.History at 0x7f68e19ccc50>"
            ]
          },
          "metadata": {
            "tags": []
          },
          "execution_count": 18
        }
      ]
    },
    {
      "cell_type": "markdown",
      "metadata": {
        "id": "ULFlpVMM2aMr"
      },
      "source": [
        "### Concating the dataset for making the x_test with timestamp as 60"
      ]
    },
    {
      "cell_type": "code",
      "metadata": {
        "id": "Qtz2ZWq72aMs"
      },
      "source": [
        "df_total =pd.concat((df_training['Open'],df_testing['Open']),axis=0)"
      ],
      "execution_count": null,
      "outputs": []
    },
    {
      "cell_type": "code",
      "metadata": {
        "id": "ZLz9q8Ge2aMt"
      },
      "source": [
        "inputs=df_total[len(df_total)-len(df_testing)-60:].values\n",
        "inputs=inputs.reshape(-1,1)\n",
        "inputs=scaler.transform(inputs)"
      ],
      "execution_count": null,
      "outputs": []
    },
    {
      "cell_type": "code",
      "metadata": {
        "id": "k_g0EEYo2aMu"
      },
      "source": [
        "x_test=[]\n",
        "for i in range(60,569):\n",
        "    x_test.append(inputs[i-60:i, 0])\n",
        "x_test=np.array(x_test)"
      ],
      "execution_count": null,
      "outputs": []
    },
    {
      "cell_type": "markdown",
      "metadata": {
        "id": "xSXbyU242aMv"
      },
      "source": [
        "#### Reshaping the x_test"
      ]
    },
    {
      "cell_type": "code",
      "metadata": {
        "id": "MzpTneyK2aMy"
      },
      "source": [
        "x_test=x_test.reshape(x_test.shape[0],x_test.shape[1],1)"
      ],
      "execution_count": null,
      "outputs": []
    },
    {
      "cell_type": "markdown",
      "metadata": {
        "id": "doYjhz8c2aMz"
      },
      "source": [
        "#### Predicting with x_test"
      ]
    },
    {
      "cell_type": "code",
      "metadata": {
        "id": "SmyuPilN2aM0"
      },
      "source": [
        "predicted_stock_price=regressor.predict(x_test)"
      ],
      "execution_count": null,
      "outputs": []
    },
    {
      "cell_type": "markdown",
      "metadata": {
        "id": "Cp0uet982aM1"
      },
      "source": [
        "#### Inversing the predicted values"
      ]
    },
    {
      "cell_type": "code",
      "metadata": {
        "id": "yySXb3sL2aM2"
      },
      "source": [
        "predicted_stock_price=scaler.inverse_transform(predicted_stock_price)"
      ],
      "execution_count": null,
      "outputs": []
    },
    {
      "cell_type": "code",
      "metadata": {
        "id": "OwkixxgZ2aM5"
      },
      "source": [
        "df_testing['Predicted']=predicted_stock_price"
      ],
      "execution_count": null,
      "outputs": []
    },
    {
      "cell_type": "code",
      "metadata": {
        "id": "UCec-Pbu2aM6"
      },
      "source": [
        "final_visualization=pd.concat([df['Open'],df_testing['Open'],df_testing['Predicted']],axis=1)"
      ],
      "execution_count": null,
      "outputs": []
    },
    {
      "cell_type": "markdown",
      "metadata": {
        "id": "QlHfWQxY2aM7"
      },
      "source": [
        "### Visualizing the data with training,testing and predicted prices"
      ]
    },
    {
      "cell_type": "code",
      "metadata": {
        "colab": {
          "base_uri": "https://localhost:8080/",
          "height": 320
        },
        "id": "C2Mj06p42aM7",
        "outputId": "0bc352af-3472-443f-c10e-a968507e5e7a"
      },
      "source": [
        "final_visualization.plot(figsize=(15,5))\n",
        "final_visualization.columns=['Training Data','Testing Data','Predicted']"
      ],
      "execution_count": null,
      "outputs": [
        {
          "output_type": "display_data",
          "data": {
            "image/png": "[encoded data removed]",
            "text/plain": [
              "<Figure size 1080x360 with 1 Axes>"
            ]
          },
          "metadata": {
            "tags": [],
            "needs_background": "light"
          }
        }
      ]
    },
    {
      "cell_type": "markdown",
      "metadata": {
        "id": "3_tJgjzt2aNA"
      },
      "source": [
        "#### Visualizing the data with testing and predicted prices"
      ]
    },
    {
      "cell_type": "code",
      "metadata": {
        "colab": {
          "base_uri": "https://localhost:8080/",
          "height": 351
        },
        "id": "DCdak3wH2aNA",
        "outputId": "0aac0ad7-c46a-458c-af98-2807c860b976"
      },
      "source": [
        "plt.figure(figsize=(15,5))\n",
        "df_testing['Open'].plot(label='Actual')\n",
        "df_testing['Predicted'].plot(label='Predicted')\n",
        "plt.legend()"
      ],
      "execution_count": null,
      "outputs": [
        {
          "output_type": "execute_result",
          "data": {
            "text/plain": [
              "<matplotlib.legend.Legend at 0x7f68ddb5e750>"
            ]
          },
          "metadata": {
            "tags": []
          },
          "execution_count": 28
        },
        {
          "output_type": "display_data",
          "data": {
            "image/png": "[encoded data removed]",
            "text/plain": [
              "<Figure size 1080x360 with 1 Axes>"
            ]
          },
          "metadata": {
            "tags": [],
            "needs_background": "light"
          }
        }
      ]
    },
    {
      "cell_type": "code",
      "metadata": {
        "id": "gjCJP2Bi2aNp"
      },
      "source": [
        "Actual=df_testing['Open']\n",
        "Predicted=df_testing['Predicted']"
      ],
      "execution_count": null,
      "outputs": []
    },
    {
      "cell_type": "code",
      "metadata": {
        "id": "J-EsVzhh2aNq"
      },
      "source": [
        "Dataframe=pd.DataFrame({'Actual':Actual,'Predicted':Predicted})"
      ],
      "execution_count": null,
      "outputs": []
    },
    {
      "cell_type": "markdown",
      "metadata": {
        "id": "qyTqzi4k2aNt"
      },
      "source": [
        "#### Making the dataframe with actual as well as predicted "
      ]
    },
    {
      "cell_type": "code",
      "metadata": {
        "colab": {
          "base_uri": "https://localhost:8080/",
          "height": 450
        },
        "id": "6nty1QTN2aNu",
        "outputId": "9fbfbcc5-f855-46ba-8770-1e5637dd1fb2"
      },
      "source": [
        "Dataframe"
      ],
      "execution_count": null,
      "outputs": [
        {
          "output_type": "execute_result",
          "data": {
            "text/html": [
              "<div>\n",
              "<style scoped>\n",
              "    .dataframe tbody tr th:only-of-type {\n",
              "        vertical-align: middle;\n",
              "    }\n",
              "\n",
              "    .dataframe tbody tr th {\n",
              "        vertical-align: top;\n",
              "    }\n",
              "\n",
              "    .dataframe thead th {\n",
              "        text-align: right;\n",
              "    }\n",
              "</style>\n",
              "<table border=\"1\" class=\"dataframe\">\n",
              "  <thead>\n",
              "    <tr style=\"text-align: right;\">\n",
              "      <th></th>\n",
              "      <th>Actual</th>\n",
              "      <th>Predicted</th>\n",
              "    </tr>\n",
              "    <tr>\n",
              "      <th>Date</th>\n",
              "      <th></th>\n",
              "      <th></th>\n",
              "    </tr>\n",
              "  </thead>\n",
              "  <tbody>\n",
              "    <tr>\n",
              "      <th>2012-07-27</th>\n",
              "      <td>120.0</td>\n",
              "      <td>123.041016</td>\n",
              "    </tr>\n",
              "    <tr>\n",
              "      <th>2012-07-26</th>\n",
              "      <td>120.0</td>\n",
              "      <td>120.416405</td>\n",
              "    </tr>\n",
              "    <tr>\n",
              "      <th>2012-07-25</th>\n",
              "      <td>123.0</td>\n",
              "      <td>118.574501</td>\n",
              "    </tr>\n",
              "    <tr>\n",
              "      <th>2012-07-24</th>\n",
              "      <td>115.0</td>\n",
              "      <td>118.184494</td>\n",
              "    </tr>\n",
              "    <tr>\n",
              "      <th>2012-07-23</th>\n",
              "      <td>118.0</td>\n",
              "      <td>117.985252</td>\n",
              "    </tr>\n",
              "    <tr>\n",
              "      <th>...</th>\n",
              "      <td>...</td>\n",
              "      <td>...</td>\n",
              "    </tr>\n",
              "    <tr>\n",
              "      <th>2010-07-27</th>\n",
              "      <td>117.6</td>\n",
              "      <td>114.621330</td>\n",
              "    </tr>\n",
              "    <tr>\n",
              "      <th>2010-07-26</th>\n",
              "      <td>120.1</td>\n",
              "      <td>114.076416</td>\n",
              "    </tr>\n",
              "    <tr>\n",
              "      <th>2010-07-23</th>\n",
              "      <td>121.8</td>\n",
              "      <td>114.711586</td>\n",
              "    </tr>\n",
              "    <tr>\n",
              "      <th>2010-07-22</th>\n",
              "      <td>120.3</td>\n",
              "      <td>116.439400</td>\n",
              "    </tr>\n",
              "    <tr>\n",
              "      <th>2010-07-21</th>\n",
              "      <td>122.1</td>\n",
              "      <td>118.332939</td>\n",
              "    </tr>\n",
              "  </tbody>\n",
              "</table>\n",
              "<p>509 rows × 2 columns</p>\n",
              "</div>"
            ],
            "text/plain": [
              "            Actual   Predicted\n",
              "Date                          \n",
              "2012-07-27   120.0  123.041016\n",
              "2012-07-26   120.0  120.416405\n",
              "2012-07-25   123.0  118.574501\n",
              "2012-07-24   115.0  118.184494\n",
              "2012-07-23   118.0  117.985252\n",
              "...            ...         ...\n",
              "2010-07-27   117.6  114.621330\n",
              "2010-07-26   120.1  114.076416\n",
              "2010-07-23   121.8  114.711586\n",
              "2010-07-22   120.3  116.439400\n",
              "2010-07-21   122.1  118.332939\n",
              "\n",
              "[509 rows x 2 columns]"
            ]
          },
          "metadata": {
            "tags": []
          },
          "execution_count": 31
        }
      ]
    }
  ]
}