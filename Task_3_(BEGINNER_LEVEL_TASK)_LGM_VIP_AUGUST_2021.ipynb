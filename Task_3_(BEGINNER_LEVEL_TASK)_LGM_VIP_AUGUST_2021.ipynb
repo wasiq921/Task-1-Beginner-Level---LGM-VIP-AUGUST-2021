{
  "nbformat": 4,
  "nbformat_minor": 0,
  "metadata": {
    "colab": {
      "name": "Task # 3 (BEGINNER LEVEL TASK) - LGM VIP AUGUST 2021.ipynb",
      "provenance": [],
      "collapsed_sections": [],
      "authorship_tag": "ABX9TyN6G0chUpGc2O6wiDCVBq36",
      "include_colab_link": true
    },
    "kernelspec": {
      "name": "python3",
      "display_name": "Python 3"
    },
    "language_info": {
      "name": "python"
    }
  },
  "cells": [
    {
      "cell_type": "markdown",
      "metadata": {
        "id": "view-in-github",
        "colab_type": "text"
      },
      "source": [
        "<a href=\"https://colab.research.google.com/github/wasiq921/Task-1-Beginner-Level---LGM-VIP-AUGUST-2021/blob/main/Task_3_(BEGINNER_LEVEL_TASK)_LGM_VIP_AUGUST_2021.ipynb\" target=\"_parent\"><img src=\"https://colab.research.google.com/assets/colab-badge.svg\" alt=\"Open In Colab\"/></a>"
      ]
    },
    {
      "cell_type": "markdown",
      "metadata": {
        "id": "A4SsRZ0Cnuc0"
      },
      "source": [
        "# Task 3 Music Recommendation\n",
        "\n",
        "### Music recommender system can suggest songs to users based on their listening pattern.\n",
        "\n",
        "## Author: Muhammad Wasiq\n",
        "##LGM VIP AUGUST 2021\n"
      ]
    },
    {
      "cell_type": "code",
      "metadata": {
        "colab": {
          "base_uri": "https://localhost:8080/"
        },
        "id": "n_ZicVF3Z93R",
        "outputId": "c156fd28-5e9a-489a-c468-550e64ff8803"
      },
      "source": [
        "#Connect Kaggle with Colab to Import Dataset\n",
        "from google.colab import drive\n",
        "drive.mount('/content/gdrive')\n",
        "\n",
        "\n"
      ],
      "execution_count": null,
      "outputs": [
        {
          "output_type": "stream",
          "text": [
            "Drive already mounted at /content/gdrive; to attempt to forcibly remount, call drive.mount(\"/content/gdrive\", force_remount=True).\n"
          ],
          "name": "stdout"
        }
      ]
    },
    {
      "cell_type": "code",
      "metadata": {
        "colab": {
          "base_uri": "https://localhost:8080/"
        },
        "id": "ksy7vAesrzMf",
        "outputId": "f51194fc-fdcd-4045-bced-abaf174fe5b2"
      },
      "source": [
        "import os\n",
        "os.environ['KAGGLE_CONFIG_DIR'] = \"/content/gdrive/My Drive/Kaggle\"\n",
        "\n",
        "%cd /content/gdrive/My Drive/Kaggle\n",
        "\n",
        "!kaggle competitions download -c kkbox-music-recommendation-challenge"
      ],
      "execution_count": null,
      "outputs": [
        {
          "output_type": "stream",
          "text": [
            "/content/gdrive/My Drive/Kaggle\n",
            "Warning: Looks like you're using an outdated API Version, please consider updating (server 1.5.12 / client 1.5.4)\n",
            "Downloading sample_submission.csv.7z to /content/gdrive/My Drive/Kaggle\n",
            "  0% 0.00/453k [00:00<?, ?B/s]\n",
            "100% 453k/453k [00:00<00:00, 28.1MB/s]\n",
            "Downloading train.csv.7z to /content/gdrive/My Drive/Kaggle\n",
            " 98% 99.0M/101M [00:00<00:00, 124MB/s]\n",
            "100% 101M/101M [00:00<00:00, 123MB/s] \n",
            "Downloading song_extra_info.csv.7z to /content/gdrive/My Drive/Kaggle\n",
            " 88% 87.0M/98.8M [00:00<00:00, 102MB/s] \n",
            "100% 98.8M/98.8M [00:01<00:00, 96.2MB/s]\n",
            "Downloading songs.csv.7z to /content/gdrive/My Drive/Kaggle\n",
            " 96% 97.0M/101M [00:00<00:00, 102MB/s]\n",
            "100% 101M/101M [00:00<00:00, 109MB/s] \n",
            "Downloading test.csv.7z to /content/gdrive/My Drive/Kaggle\n",
            " 95% 40.0M/41.9M [00:00<00:00, 89.6MB/s]\n",
            "100% 41.9M/41.9M [00:00<00:00, 84.6MB/s]\n",
            "Downloading members.csv.7z to /content/gdrive/My Drive/Kaggle\n",
            "  0% 0.00/1.29M [00:00<?, ?B/s]\n",
            "100% 1.29M/1.29M [00:00<00:00, 42.0MB/s]\n"
          ],
          "name": "stdout"
        }
      ]
    },
    {
      "cell_type": "code",
      "metadata": {
        "colab": {
          "base_uri": "https://localhost:8080/"
        },
        "id": "VzG7Q7VSsHiA",
        "outputId": "8ab449ca-6530-40c2-9307-37b57f8666eb"
      },
      "source": [
        "!pip install pyunpack\n",
        "!pip install patool\n",
        "from pyunpack import Archive\n",
        "Archive('train.csv.7z').extractall(\"/content/gdrive/My Drive/Kaggle\")\n",
        "Archive('test.csv.7z').extractall(\"/content/gdrive/My Drive/Kaggle\")\n",
        "\n",
        "Archive('members.csv.7z').extractall(\"/content/gdrive/My Drive/Kaggle\")\n",
        "\n",
        "Archive('songs.csv.7z').extractall(\"/content/gdrive/My Drive/Kaggle\")"
      ],
      "execution_count": null,
      "outputs": [
        {
          "output_type": "stream",
          "text": [
            "Requirement already satisfied: pyunpack in /usr/local/lib/python3.7/dist-packages (0.2.2)\n",
            "Requirement already satisfied: easyprocess in /usr/local/lib/python3.7/dist-packages (from pyunpack) (0.3)\n",
            "Requirement already satisfied: entrypoint2 in /usr/local/lib/python3.7/dist-packages (from pyunpack) (0.2.4)\n",
            "Collecting patool\n",
            "  Downloading patool-1.12-py2.py3-none-any.whl (77 kB)\n",
            "\u001b[K     |████████████████████████████████| 77 kB 2.2 MB/s \n",
            "\u001b[?25hInstalling collected packages: patool\n",
            "Successfully installed patool-1.12\n"
          ],
          "name": "stdout"
        }
      ]
    },
    {
      "cell_type": "markdown",
      "metadata": {
        "id": "bPL3Aw90tjUf"
      },
      "source": [
        "Successfully Connected Kaggle with Colab and imported and unzip dataset"
      ]
    },
    {
      "cell_type": "markdown",
      "metadata": {
        "id": "3ghK_q0pp-bN"
      },
      "source": [
        "Now we import all required libraries for our task"
      ]
    },
    {
      "cell_type": "code",
      "metadata": {
        "id": "kCEvz9skpFfo"
      },
      "source": [
        "from sklearn.model_selection import train_test_split\n",
        "import xgboost as xgb\n",
        "import numpy as np\n",
        "import pandas as pd\n",
        "import seaborn as sns\n",
        "import matplotlib.pyplot as plt\n",
        "import matplotlib as mpl\n",
        "import warnings\n",
        "warnings.filterwarnings('ignore')\n",
        "plt.style.use('ggplot')"
      ],
      "execution_count": null,
      "outputs": []
    },
    {
      "cell_type": "code",
      "metadata": {
        "id": "MIbjtfJFpSKY"
      },
      "source": [
        "train = pd.read_csv('train.csv')\n",
        "test=pd.read_csv(\"test.csv\")\n",
        "members=pd.read_csv(\"members.csv\")\n",
        "songs=pd.read_csv(\"songs.csv\")"
      ],
      "execution_count": null,
      "outputs": []
    },
    {
      "cell_type": "code",
      "metadata": {
        "colab": {
          "base_uri": "https://localhost:8080/",
          "height": 204
        },
        "id": "yntDXouHqQWw",
        "outputId": "aa6fc701-fda3-420b-a9db-16f888d8d26d"
      },
      "source": [
        "train.head()"
      ],
      "execution_count": null,
      "outputs": [
        {
          "output_type": "execute_result",
          "data": {
            "text/html": [
              "<div>\n",
              "<style scoped>\n",
              "    .dataframe tbody tr th:only-of-type {\n",
              "        vertical-align: middle;\n",
              "    }\n",
              "\n",
              "    .dataframe tbody tr th {\n",
              "        vertical-align: top;\n",
              "    }\n",
              "\n",
              "    .dataframe thead th {\n",
              "        text-align: right;\n",
              "    }\n",
              "</style>\n",
              "<table border=\"1\" class=\"dataframe\">\n",
              "  <thead>\n",
              "    <tr style=\"text-align: right;\">\n",
              "      <th></th>\n",
              "      <th>msno</th>\n",
              "      <th>song_id</th>\n",
              "      <th>source_system_tab</th>\n",
              "      <th>source_screen_name</th>\n",
              "      <th>source_type</th>\n",
              "      <th>target</th>\n",
              "    </tr>\n",
              "  </thead>\n",
              "  <tbody>\n",
              "    <tr>\n",
              "      <th>0</th>\n",
              "      <td>FGtllVqz18RPiwJj/edr2gV78zirAiY/9SmYvia+kCg=</td>\n",
              "      <td>BBzumQNXUHKdEBOB7mAJuzok+IJA1c2Ryg/yzTF6tik=</td>\n",
              "      <td>explore</td>\n",
              "      <td>Explore</td>\n",
              "      <td>online-playlist</td>\n",
              "      <td>1</td>\n",
              "    </tr>\n",
              "    <tr>\n",
              "      <th>1</th>\n",
              "      <td>Xumu+NIjS6QYVxDS4/t3SawvJ7viT9hPKXmf0RtLNx8=</td>\n",
              "      <td>bhp/MpSNoqoxOIB+/l8WPqu6jldth4DIpCm3ayXnJqM=</td>\n",
              "      <td>my library</td>\n",
              "      <td>Local playlist more</td>\n",
              "      <td>local-playlist</td>\n",
              "      <td>1</td>\n",
              "    </tr>\n",
              "    <tr>\n",
              "      <th>2</th>\n",
              "      <td>Xumu+NIjS6QYVxDS4/t3SawvJ7viT9hPKXmf0RtLNx8=</td>\n",
              "      <td>JNWfrrC7zNN7BdMpsISKa4Mw+xVJYNnxXh3/Epw7QgY=</td>\n",
              "      <td>my library</td>\n",
              "      <td>Local playlist more</td>\n",
              "      <td>local-playlist</td>\n",
              "      <td>1</td>\n",
              "    </tr>\n",
              "    <tr>\n",
              "      <th>3</th>\n",
              "      <td>Xumu+NIjS6QYVxDS4/t3SawvJ7viT9hPKXmf0RtLNx8=</td>\n",
              "      <td>2A87tzfnJTSWqD7gIZHisolhe4DMdzkbd6LzO1KHjNs=</td>\n",
              "      <td>my library</td>\n",
              "      <td>Local playlist more</td>\n",
              "      <td>local-playlist</td>\n",
              "      <td>1</td>\n",
              "    </tr>\n",
              "    <tr>\n",
              "      <th>4</th>\n",
              "      <td>FGtllVqz18RPiwJj/edr2gV78zirAiY/9SmYvia+kCg=</td>\n",
              "      <td>3qm6XTZ6MOCU11x8FIVbAGH5l5uMkT3/ZalWG1oo2Gc=</td>\n",
              "      <td>explore</td>\n",
              "      <td>Explore</td>\n",
              "      <td>online-playlist</td>\n",
              "      <td>1</td>\n",
              "    </tr>\n",
              "  </tbody>\n",
              "</table>\n",
              "</div>"
            ],
            "text/plain": [
              "                                           msno  ... target\n",
              "0  FGtllVqz18RPiwJj/edr2gV78zirAiY/9SmYvia+kCg=  ...      1\n",
              "1  Xumu+NIjS6QYVxDS4/t3SawvJ7viT9hPKXmf0RtLNx8=  ...      1\n",
              "2  Xumu+NIjS6QYVxDS4/t3SawvJ7viT9hPKXmf0RtLNx8=  ...      1\n",
              "3  Xumu+NIjS6QYVxDS4/t3SawvJ7viT9hPKXmf0RtLNx8=  ...      1\n",
              "4  FGtllVqz18RPiwJj/edr2gV78zirAiY/9SmYvia+kCg=  ...      1\n",
              "\n",
              "[5 rows x 6 columns]"
            ]
          },
          "metadata": {
            "tags": []
          },
          "execution_count": 17
        }
      ]
    },
    {
      "cell_type": "code",
      "metadata": {
        "colab": {
          "base_uri": "https://localhost:8080/",
          "height": 204
        },
        "id": "XaCIhjB9uB-S",
        "outputId": "4b7b092e-e9b7-464f-af06-432a9c3a17ab"
      },
      "source": [
        "test.head()"
      ],
      "execution_count": null,
      "outputs": [
        {
          "output_type": "execute_result",
          "data": {
            "text/html": [
              "<div>\n",
              "<style scoped>\n",
              "    .dataframe tbody tr th:only-of-type {\n",
              "        vertical-align: middle;\n",
              "    }\n",
              "\n",
              "    .dataframe tbody tr th {\n",
              "        vertical-align: top;\n",
              "    }\n",
              "\n",
              "    .dataframe thead th {\n",
              "        text-align: right;\n",
              "    }\n",
              "</style>\n",
              "<table border=\"1\" class=\"dataframe\">\n",
              "  <thead>\n",
              "    <tr style=\"text-align: right;\">\n",
              "      <th></th>\n",
              "      <th>id</th>\n",
              "      <th>msno</th>\n",
              "      <th>song_id</th>\n",
              "      <th>source_system_tab</th>\n",
              "      <th>source_screen_name</th>\n",
              "      <th>source_type</th>\n",
              "    </tr>\n",
              "  </thead>\n",
              "  <tbody>\n",
              "    <tr>\n",
              "      <th>0</th>\n",
              "      <td>0</td>\n",
              "      <td>V8ruy7SGk7tDm3zA51DPpn6qutt+vmKMBKa21dp54uM=</td>\n",
              "      <td>WmHKgKMlp1lQMecNdNvDMkvIycZYHnFwDT72I5sIssc=</td>\n",
              "      <td>my library</td>\n",
              "      <td>Local playlist more</td>\n",
              "      <td>local-library</td>\n",
              "    </tr>\n",
              "    <tr>\n",
              "      <th>1</th>\n",
              "      <td>1</td>\n",
              "      <td>V8ruy7SGk7tDm3zA51DPpn6qutt+vmKMBKa21dp54uM=</td>\n",
              "      <td>y/rsZ9DC7FwK5F2PK2D5mj+aOBUJAjuu3dZ14NgE0vM=</td>\n",
              "      <td>my library</td>\n",
              "      <td>Local playlist more</td>\n",
              "      <td>local-library</td>\n",
              "    </tr>\n",
              "    <tr>\n",
              "      <th>2</th>\n",
              "      <td>2</td>\n",
              "      <td>/uQAlrAkaczV+nWCd2sPF2ekvXPRipV7q0l+gbLuxjw=</td>\n",
              "      <td>8eZLFOdGVdXBSqoAv5nsLigeH2BvKXzTQYtUM53I0k4=</td>\n",
              "      <td>discover</td>\n",
              "      <td>NaN</td>\n",
              "      <td>song-based-playlist</td>\n",
              "    </tr>\n",
              "    <tr>\n",
              "      <th>3</th>\n",
              "      <td>3</td>\n",
              "      <td>1a6oo/iXKatxQx4eS9zTVD+KlSVaAFbTIqVvwLC1Y0k=</td>\n",
              "      <td>ztCf8thYsS4YN3GcIL/bvoxLm/T5mYBVKOO4C9NiVfQ=</td>\n",
              "      <td>radio</td>\n",
              "      <td>Radio</td>\n",
              "      <td>radio</td>\n",
              "    </tr>\n",
              "    <tr>\n",
              "      <th>4</th>\n",
              "      <td>4</td>\n",
              "      <td>1a6oo/iXKatxQx4eS9zTVD+KlSVaAFbTIqVvwLC1Y0k=</td>\n",
              "      <td>MKVMpslKcQhMaFEgcEQhEfi5+RZhMYlU3eRDpySrH8Y=</td>\n",
              "      <td>radio</td>\n",
              "      <td>Radio</td>\n",
              "      <td>radio</td>\n",
              "    </tr>\n",
              "  </tbody>\n",
              "</table>\n",
              "</div>"
            ],
            "text/plain": [
              "   id  ...          source_type\n",
              "0   0  ...        local-library\n",
              "1   1  ...        local-library\n",
              "2   2  ...  song-based-playlist\n",
              "3   3  ...                radio\n",
              "4   4  ...                radio\n",
              "\n",
              "[5 rows x 6 columns]"
            ]
          },
          "metadata": {
            "tags": []
          },
          "execution_count": 18
        }
      ]
    },
    {
      "cell_type": "code",
      "metadata": {
        "colab": {
          "base_uri": "https://localhost:8080/",
          "height": 204
        },
        "id": "lXpqb6VAuD6r",
        "outputId": "ae389b25-6f68-4eca-99c6-5b6064f8fb04"
      },
      "source": [
        "members.head()"
      ],
      "execution_count": null,
      "outputs": [
        {
          "output_type": "execute_result",
          "data": {
            "text/html": [
              "<div>\n",
              "<style scoped>\n",
              "    .dataframe tbody tr th:only-of-type {\n",
              "        vertical-align: middle;\n",
              "    }\n",
              "\n",
              "    .dataframe tbody tr th {\n",
              "        vertical-align: top;\n",
              "    }\n",
              "\n",
              "    .dataframe thead th {\n",
              "        text-align: right;\n",
              "    }\n",
              "</style>\n",
              "<table border=\"1\" class=\"dataframe\">\n",
              "  <thead>\n",
              "    <tr style=\"text-align: right;\">\n",
              "      <th></th>\n",
              "      <th>msno</th>\n",
              "      <th>city</th>\n",
              "      <th>bd</th>\n",
              "      <th>gender</th>\n",
              "      <th>registered_via</th>\n",
              "      <th>registration_init_time</th>\n",
              "      <th>expiration_date</th>\n",
              "    </tr>\n",
              "  </thead>\n",
              "  <tbody>\n",
              "    <tr>\n",
              "      <th>0</th>\n",
              "      <td>XQxgAYj3klVKjR3oxPPXYYFp4soD4TuBghkhMTD4oTw=</td>\n",
              "      <td>1</td>\n",
              "      <td>0</td>\n",
              "      <td>NaN</td>\n",
              "      <td>7</td>\n",
              "      <td>20110820</td>\n",
              "      <td>20170920</td>\n",
              "    </tr>\n",
              "    <tr>\n",
              "      <th>1</th>\n",
              "      <td>UizsfmJb9mV54qE9hCYyU07Va97c0lCRLEQX3ae+ztM=</td>\n",
              "      <td>1</td>\n",
              "      <td>0</td>\n",
              "      <td>NaN</td>\n",
              "      <td>7</td>\n",
              "      <td>20150628</td>\n",
              "      <td>20170622</td>\n",
              "    </tr>\n",
              "    <tr>\n",
              "      <th>2</th>\n",
              "      <td>D8nEhsIOBSoE6VthTaqDX8U6lqjJ7dLdr72mOyLya2A=</td>\n",
              "      <td>1</td>\n",
              "      <td>0</td>\n",
              "      <td>NaN</td>\n",
              "      <td>4</td>\n",
              "      <td>20160411</td>\n",
              "      <td>20170712</td>\n",
              "    </tr>\n",
              "    <tr>\n",
              "      <th>3</th>\n",
              "      <td>mCuD+tZ1hERA/o5GPqk38e041J8ZsBaLcu7nGoIIvhI=</td>\n",
              "      <td>1</td>\n",
              "      <td>0</td>\n",
              "      <td>NaN</td>\n",
              "      <td>9</td>\n",
              "      <td>20150906</td>\n",
              "      <td>20150907</td>\n",
              "    </tr>\n",
              "    <tr>\n",
              "      <th>4</th>\n",
              "      <td>q4HRBfVSssAFS9iRfxWrohxuk9kCYMKjHOEagUMV6rQ=</td>\n",
              "      <td>1</td>\n",
              "      <td>0</td>\n",
              "      <td>NaN</td>\n",
              "      <td>4</td>\n",
              "      <td>20170126</td>\n",
              "      <td>20170613</td>\n",
              "    </tr>\n",
              "  </tbody>\n",
              "</table>\n",
              "</div>"
            ],
            "text/plain": [
              "                                           msno  ...  expiration_date\n",
              "0  XQxgAYj3klVKjR3oxPPXYYFp4soD4TuBghkhMTD4oTw=  ...         20170920\n",
              "1  UizsfmJb9mV54qE9hCYyU07Va97c0lCRLEQX3ae+ztM=  ...         20170622\n",
              "2  D8nEhsIOBSoE6VthTaqDX8U6lqjJ7dLdr72mOyLya2A=  ...         20170712\n",
              "3  mCuD+tZ1hERA/o5GPqk38e041J8ZsBaLcu7nGoIIvhI=  ...         20150907\n",
              "4  q4HRBfVSssAFS9iRfxWrohxuk9kCYMKjHOEagUMV6rQ=  ...         20170613\n",
              "\n",
              "[5 rows x 7 columns]"
            ]
          },
          "metadata": {
            "tags": []
          },
          "execution_count": 19
        }
      ]
    },
    {
      "cell_type": "code",
      "metadata": {
        "colab": {
          "base_uri": "https://localhost:8080/",
          "height": 204
        },
        "id": "syFUO1uJuGeJ",
        "outputId": "5ba8ac1c-2868-45cb-f20f-99182a19c272"
      },
      "source": [
        "songs.head()"
      ],
      "execution_count": null,
      "outputs": [
        {
          "output_type": "execute_result",
          "data": {
            "text/html": [
              "<div>\n",
              "<style scoped>\n",
              "    .dataframe tbody tr th:only-of-type {\n",
              "        vertical-align: middle;\n",
              "    }\n",
              "\n",
              "    .dataframe tbody tr th {\n",
              "        vertical-align: top;\n",
              "    }\n",
              "\n",
              "    .dataframe thead th {\n",
              "        text-align: right;\n",
              "    }\n",
              "</style>\n",
              "<table border=\"1\" class=\"dataframe\">\n",
              "  <thead>\n",
              "    <tr style=\"text-align: right;\">\n",
              "      <th></th>\n",
              "      <th>song_id</th>\n",
              "      <th>song_length</th>\n",
              "      <th>genre_ids</th>\n",
              "      <th>artist_name</th>\n",
              "      <th>composer</th>\n",
              "      <th>lyricist</th>\n",
              "      <th>language</th>\n",
              "    </tr>\n",
              "  </thead>\n",
              "  <tbody>\n",
              "    <tr>\n",
              "      <th>0</th>\n",
              "      <td>CXoTN1eb7AI+DntdU1vbcwGRV4SCIDxZu+YD8JP8r4E=</td>\n",
              "      <td>247640</td>\n",
              "      <td>465</td>\n",
              "      <td>張信哲 (Jeff Chang)</td>\n",
              "      <td>董貞</td>\n",
              "      <td>何啟弘</td>\n",
              "      <td>3.0</td>\n",
              "    </tr>\n",
              "    <tr>\n",
              "      <th>1</th>\n",
              "      <td>o0kFgae9QtnYgRkVPqLJwa05zIhRlUjfF7O1tDw0ZDU=</td>\n",
              "      <td>197328</td>\n",
              "      <td>444</td>\n",
              "      <td>BLACKPINK</td>\n",
              "      <td>TEDDY|  FUTURE BOUNCE|  Bekuh BOOM</td>\n",
              "      <td>TEDDY</td>\n",
              "      <td>31.0</td>\n",
              "    </tr>\n",
              "    <tr>\n",
              "      <th>2</th>\n",
              "      <td>DwVvVurfpuz+XPuFvucclVQEyPqcpUkHR0ne1RQzPs0=</td>\n",
              "      <td>231781</td>\n",
              "      <td>465</td>\n",
              "      <td>SUPER JUNIOR</td>\n",
              "      <td>NaN</td>\n",
              "      <td>NaN</td>\n",
              "      <td>31.0</td>\n",
              "    </tr>\n",
              "    <tr>\n",
              "      <th>3</th>\n",
              "      <td>dKMBWoZyScdxSkihKG+Vf47nc18N9q4m58+b4e7dSSE=</td>\n",
              "      <td>273554</td>\n",
              "      <td>465</td>\n",
              "      <td>S.H.E</td>\n",
              "      <td>湯小康</td>\n",
              "      <td>徐世珍</td>\n",
              "      <td>3.0</td>\n",
              "    </tr>\n",
              "    <tr>\n",
              "      <th>4</th>\n",
              "      <td>W3bqWd3T+VeHFzHAUfARgW9AvVRaF4N5Yzm4Mr6Eo/o=</td>\n",
              "      <td>140329</td>\n",
              "      <td>726</td>\n",
              "      <td>貴族精選</td>\n",
              "      <td>Traditional</td>\n",
              "      <td>Traditional</td>\n",
              "      <td>52.0</td>\n",
              "    </tr>\n",
              "  </tbody>\n",
              "</table>\n",
              "</div>"
            ],
            "text/plain": [
              "                                        song_id  ...  language\n",
              "0  CXoTN1eb7AI+DntdU1vbcwGRV4SCIDxZu+YD8JP8r4E=  ...       3.0\n",
              "1  o0kFgae9QtnYgRkVPqLJwa05zIhRlUjfF7O1tDw0ZDU=  ...      31.0\n",
              "2  DwVvVurfpuz+XPuFvucclVQEyPqcpUkHR0ne1RQzPs0=  ...      31.0\n",
              "3  dKMBWoZyScdxSkihKG+Vf47nc18N9q4m58+b4e7dSSE=  ...       3.0\n",
              "4  W3bqWd3T+VeHFzHAUfARgW9AvVRaF4N5Yzm4Mr6Eo/o=  ...      52.0\n",
              "\n",
              "[5 rows x 7 columns]"
            ]
          },
          "metadata": {
            "tags": []
          },
          "execution_count": 20
        }
      ]
    },
    {
      "cell_type": "markdown",
      "metadata": {
        "id": "_E-4ZkHjuU2Y"
      },
      "source": [
        "Successfullly Imported all required dataset"
      ]
    },
    {
      "cell_type": "code",
      "metadata": {
        "id": "OIyq1v9iuKHB"
      },
      "source": [
        "# 1% sample of items\n",
        "train = train.sample(frac=0.01)"
      ],
      "execution_count": null,
      "outputs": []
    },
    {
      "cell_type": "code",
      "metadata": {
        "colab": {
          "base_uri": "https://localhost:8080/"
        },
        "id": "JuNno1nZud8Y",
        "outputId": "58d7fe84-260b-4880-9396-45f782633a7f"
      },
      "source": [
        "train.shape"
      ],
      "execution_count": null,
      "outputs": [
        {
          "output_type": "execute_result",
          "data": {
            "text/plain": [
              "(73774, 6)"
            ]
          },
          "metadata": {
            "tags": []
          },
          "execution_count": 22
        }
      ]
    },
    {
      "cell_type": "code",
      "metadata": {
        "id": "MFjvyLNbugc-"
      },
      "source": [
        "train = pd.merge(train, songs, on='song_id', how='left')"
      ],
      "execution_count": null,
      "outputs": []
    },
    {
      "cell_type": "code",
      "metadata": {
        "colab": {
          "base_uri": "https://localhost:8080/"
        },
        "id": "ITDSaOwWusrz",
        "outputId": "d2961d72-37f5-40f8-d807-46c02af3fbaf"
      },
      "source": [
        "train.shape"
      ],
      "execution_count": null,
      "outputs": [
        {
          "output_type": "execute_result",
          "data": {
            "text/plain": [
              "(73774, 12)"
            ]
          },
          "metadata": {
            "tags": []
          },
          "execution_count": 24
        }
      ]
    },
    {
      "cell_type": "code",
      "metadata": {
        "colab": {
          "base_uri": "https://localhost:8080/",
          "height": 343
        },
        "id": "xBhdxoeruvDf",
        "outputId": "8e1e8dfc-2f05-4c95-c8dd-ced4a7bec31a"
      },
      "source": [
        "train.head()"
      ],
      "execution_count": null,
      "outputs": [
        {
          "output_type": "execute_result",
          "data": {
            "text/html": [
              "<div>\n",
              "<style scoped>\n",
              "    .dataframe tbody tr th:only-of-type {\n",
              "        vertical-align: middle;\n",
              "    }\n",
              "\n",
              "    .dataframe tbody tr th {\n",
              "        vertical-align: top;\n",
              "    }\n",
              "\n",
              "    .dataframe thead th {\n",
              "        text-align: right;\n",
              "    }\n",
              "</style>\n",
              "<table border=\"1\" class=\"dataframe\">\n",
              "  <thead>\n",
              "    <tr style=\"text-align: right;\">\n",
              "      <th></th>\n",
              "      <th>msno</th>\n",
              "      <th>song_id</th>\n",
              "      <th>source_system_tab</th>\n",
              "      <th>source_screen_name</th>\n",
              "      <th>source_type</th>\n",
              "      <th>target</th>\n",
              "      <th>song_length</th>\n",
              "      <th>genre_ids</th>\n",
              "      <th>artist_name</th>\n",
              "      <th>composer</th>\n",
              "      <th>lyricist</th>\n",
              "      <th>language</th>\n",
              "    </tr>\n",
              "  </thead>\n",
              "  <tbody>\n",
              "    <tr>\n",
              "      <th>0</th>\n",
              "      <td>w0GjwHIpsIXQeM/2wWGCPKaEfR339CzOHjp2yJ5kxXo=</td>\n",
              "      <td>dKfxhaRKwvhiYOUQ5JlkxQrJ/dDksdFueybCIdG5dXI=</td>\n",
              "      <td>my library</td>\n",
              "      <td>Local playlist more</td>\n",
              "      <td>local-library</td>\n",
              "      <td>1</td>\n",
              "      <td>205224.0</td>\n",
              "      <td>465</td>\n",
              "      <td>Various Artists</td>\n",
              "      <td>Rocoberry</td>\n",
              "      <td>Ji Hoon/GAEMI</td>\n",
              "      <td>31.0</td>\n",
              "    </tr>\n",
              "    <tr>\n",
              "      <th>1</th>\n",
              "      <td>asiRFkuBuPyUKPGB4v+iw5BCwFtRN2paj1tzvNGjF3c=</td>\n",
              "      <td>43Qm2YzsP99P5wm37B1JIhezUcQ/1CDjYlQx6rBbz2U=</td>\n",
              "      <td>my library</td>\n",
              "      <td>Local playlist more</td>\n",
              "      <td>local-library</td>\n",
              "      <td>0</td>\n",
              "      <td>346272.0</td>\n",
              "      <td>458</td>\n",
              "      <td>五月天 (Mayday)</td>\n",
              "      <td>怪獸</td>\n",
              "      <td>阿信</td>\n",
              "      <td>3.0</td>\n",
              "    </tr>\n",
              "    <tr>\n",
              "      <th>2</th>\n",
              "      <td>k4FVXwOW+H6GP5GPklub7jE6bgX4E5Xg9uIxq+BI9iY=</td>\n",
              "      <td>wIyJy+rLR+bjPcVydq6r8sCRm5he7urtV5MsQI9sDak=</td>\n",
              "      <td>discover</td>\n",
              "      <td>Online playlist more</td>\n",
              "      <td>online-playlist</td>\n",
              "      <td>1</td>\n",
              "      <td>193375.0</td>\n",
              "      <td>444</td>\n",
              "      <td>Seohyun</td>\n",
              "      <td>Matthew Tishler| Felicia Barton</td>\n",
              "      <td>NaN</td>\n",
              "      <td>31.0</td>\n",
              "    </tr>\n",
              "    <tr>\n",
              "      <th>3</th>\n",
              "      <td>yanbsb+JxenTqCS2GEc6eGWYUSwnLiuIJVHZLagDbBE=</td>\n",
              "      <td>8IVZCbM67Y08IXGOh7L/xw6YlQUxC8qitkWB91D31WY=</td>\n",
              "      <td>radio</td>\n",
              "      <td>Radio</td>\n",
              "      <td>radio</td>\n",
              "      <td>0</td>\n",
              "      <td>307060.0</td>\n",
              "      <td>786|947</td>\n",
              "      <td>李欣芸 (CinCin Lee)</td>\n",
              "      <td>李欣芸</td>\n",
              "      <td>NaN</td>\n",
              "      <td>-1.0</td>\n",
              "    </tr>\n",
              "    <tr>\n",
              "      <th>4</th>\n",
              "      <td>3WUnEKYdIe9wZA7HOVnlDaF2MKBvakc4qiIDbyw4d7w=</td>\n",
              "      <td>XkvpC4yaPtzNf95XHujV5rFi6T+irQ7jLW/A6sVXjdI=</td>\n",
              "      <td>my library</td>\n",
              "      <td>Local playlist more</td>\n",
              "      <td>local-playlist</td>\n",
              "      <td>1</td>\n",
              "      <td>280659.0</td>\n",
              "      <td>458</td>\n",
              "      <td>周杰倫 (Jay Chou)</td>\n",
              "      <td>周杰倫</td>\n",
              "      <td>黃淩嘉</td>\n",
              "      <td>3.0</td>\n",
              "    </tr>\n",
              "  </tbody>\n",
              "</table>\n",
              "</div>"
            ],
            "text/plain": [
              "                                           msno  ... language\n",
              "0  w0GjwHIpsIXQeM/2wWGCPKaEfR339CzOHjp2yJ5kxXo=  ...     31.0\n",
              "1  asiRFkuBuPyUKPGB4v+iw5BCwFtRN2paj1tzvNGjF3c=  ...      3.0\n",
              "2  k4FVXwOW+H6GP5GPklub7jE6bgX4E5Xg9uIxq+BI9iY=  ...     31.0\n",
              "3  yanbsb+JxenTqCS2GEc6eGWYUSwnLiuIJVHZLagDbBE=  ...     -1.0\n",
              "4  3WUnEKYdIe9wZA7HOVnlDaF2MKBvakc4qiIDbyw4d7w=  ...      3.0\n",
              "\n",
              "[5 rows x 12 columns]"
            ]
          },
          "metadata": {
            "tags": []
          },
          "execution_count": 25
        }
      ]
    },
    {
      "cell_type": "code",
      "metadata": {
        "colab": {
          "base_uri": "https://localhost:8080/",
          "height": 343
        },
        "id": "UnY-LGUbuxCT",
        "outputId": "44fee845-645e-4e6c-d8bc-23457842f248"
      },
      "source": [
        "train = pd.merge(train, members, on='msno', how='left')\n",
        "train.shape\n",
        "train.head()"
      ],
      "execution_count": null,
      "outputs": [
        {
          "output_type": "execute_result",
          "data": {
            "text/html": [
              "<div>\n",
              "<style scoped>\n",
              "    .dataframe tbody tr th:only-of-type {\n",
              "        vertical-align: middle;\n",
              "    }\n",
              "\n",
              "    .dataframe tbody tr th {\n",
              "        vertical-align: top;\n",
              "    }\n",
              "\n",
              "    .dataframe thead th {\n",
              "        text-align: right;\n",
              "    }\n",
              "</style>\n",
              "<table border=\"1\" class=\"dataframe\">\n",
              "  <thead>\n",
              "    <tr style=\"text-align: right;\">\n",
              "      <th></th>\n",
              "      <th>msno</th>\n",
              "      <th>song_id</th>\n",
              "      <th>source_system_tab</th>\n",
              "      <th>source_screen_name</th>\n",
              "      <th>source_type</th>\n",
              "      <th>target</th>\n",
              "      <th>song_length</th>\n",
              "      <th>genre_ids</th>\n",
              "      <th>artist_name</th>\n",
              "      <th>composer</th>\n",
              "      <th>lyricist</th>\n",
              "      <th>language</th>\n",
              "      <th>city</th>\n",
              "      <th>bd</th>\n",
              "      <th>gender</th>\n",
              "      <th>registered_via</th>\n",
              "      <th>registration_init_time</th>\n",
              "      <th>expiration_date</th>\n",
              "    </tr>\n",
              "  </thead>\n",
              "  <tbody>\n",
              "    <tr>\n",
              "      <th>0</th>\n",
              "      <td>w0GjwHIpsIXQeM/2wWGCPKaEfR339CzOHjp2yJ5kxXo=</td>\n",
              "      <td>dKfxhaRKwvhiYOUQ5JlkxQrJ/dDksdFueybCIdG5dXI=</td>\n",
              "      <td>my library</td>\n",
              "      <td>Local playlist more</td>\n",
              "      <td>local-library</td>\n",
              "      <td>1</td>\n",
              "      <td>205224.0</td>\n",
              "      <td>465</td>\n",
              "      <td>Various Artists</td>\n",
              "      <td>Rocoberry</td>\n",
              "      <td>Ji Hoon/GAEMI</td>\n",
              "      <td>31.0</td>\n",
              "      <td>13</td>\n",
              "      <td>29</td>\n",
              "      <td>female</td>\n",
              "      <td>9</td>\n",
              "      <td>20110611</td>\n",
              "      <td>20171022</td>\n",
              "    </tr>\n",
              "    <tr>\n",
              "      <th>1</th>\n",
              "      <td>asiRFkuBuPyUKPGB4v+iw5BCwFtRN2paj1tzvNGjF3c=</td>\n",
              "      <td>43Qm2YzsP99P5wm37B1JIhezUcQ/1CDjYlQx6rBbz2U=</td>\n",
              "      <td>my library</td>\n",
              "      <td>Local playlist more</td>\n",
              "      <td>local-library</td>\n",
              "      <td>0</td>\n",
              "      <td>346272.0</td>\n",
              "      <td>458</td>\n",
              "      <td>五月天 (Mayday)</td>\n",
              "      <td>怪獸</td>\n",
              "      <td>阿信</td>\n",
              "      <td>3.0</td>\n",
              "      <td>1</td>\n",
              "      <td>0</td>\n",
              "      <td>NaN</td>\n",
              "      <td>7</td>\n",
              "      <td>20140102</td>\n",
              "      <td>20171007</td>\n",
              "    </tr>\n",
              "    <tr>\n",
              "      <th>2</th>\n",
              "      <td>k4FVXwOW+H6GP5GPklub7jE6bgX4E5Xg9uIxq+BI9iY=</td>\n",
              "      <td>wIyJy+rLR+bjPcVydq6r8sCRm5he7urtV5MsQI9sDak=</td>\n",
              "      <td>discover</td>\n",
              "      <td>Online playlist more</td>\n",
              "      <td>online-playlist</td>\n",
              "      <td>1</td>\n",
              "      <td>193375.0</td>\n",
              "      <td>444</td>\n",
              "      <td>Seohyun</td>\n",
              "      <td>Matthew Tishler| Felicia Barton</td>\n",
              "      <td>NaN</td>\n",
              "      <td>31.0</td>\n",
              "      <td>13</td>\n",
              "      <td>55</td>\n",
              "      <td>male</td>\n",
              "      <td>3</td>\n",
              "      <td>20161016</td>\n",
              "      <td>20171020</td>\n",
              "    </tr>\n",
              "    <tr>\n",
              "      <th>3</th>\n",
              "      <td>yanbsb+JxenTqCS2GEc6eGWYUSwnLiuIJVHZLagDbBE=</td>\n",
              "      <td>8IVZCbM67Y08IXGOh7L/xw6YlQUxC8qitkWB91D31WY=</td>\n",
              "      <td>radio</td>\n",
              "      <td>Radio</td>\n",
              "      <td>radio</td>\n",
              "      <td>0</td>\n",
              "      <td>307060.0</td>\n",
              "      <td>786|947</td>\n",
              "      <td>李欣芸 (CinCin Lee)</td>\n",
              "      <td>李欣芸</td>\n",
              "      <td>NaN</td>\n",
              "      <td>-1.0</td>\n",
              "      <td>22</td>\n",
              "      <td>27</td>\n",
              "      <td>female</td>\n",
              "      <td>9</td>\n",
              "      <td>20151204</td>\n",
              "      <td>20171223</td>\n",
              "    </tr>\n",
              "    <tr>\n",
              "      <th>4</th>\n",
              "      <td>3WUnEKYdIe9wZA7HOVnlDaF2MKBvakc4qiIDbyw4d7w=</td>\n",
              "      <td>XkvpC4yaPtzNf95XHujV5rFi6T+irQ7jLW/A6sVXjdI=</td>\n",
              "      <td>my library</td>\n",
              "      <td>Local playlist more</td>\n",
              "      <td>local-playlist</td>\n",
              "      <td>1</td>\n",
              "      <td>280659.0</td>\n",
              "      <td>458</td>\n",
              "      <td>周杰倫 (Jay Chou)</td>\n",
              "      <td>周杰倫</td>\n",
              "      <td>黃淩嘉</td>\n",
              "      <td>3.0</td>\n",
              "      <td>6</td>\n",
              "      <td>28</td>\n",
              "      <td>female</td>\n",
              "      <td>9</td>\n",
              "      <td>20090120</td>\n",
              "      <td>20171001</td>\n",
              "    </tr>\n",
              "  </tbody>\n",
              "</table>\n",
              "</div>"
            ],
            "text/plain": [
              "                                           msno  ... expiration_date\n",
              "0  w0GjwHIpsIXQeM/2wWGCPKaEfR339CzOHjp2yJ5kxXo=  ...        20171022\n",
              "1  asiRFkuBuPyUKPGB4v+iw5BCwFtRN2paj1tzvNGjF3c=  ...        20171007\n",
              "2  k4FVXwOW+H6GP5GPklub7jE6bgX4E5Xg9uIxq+BI9iY=  ...        20171020\n",
              "3  yanbsb+JxenTqCS2GEc6eGWYUSwnLiuIJVHZLagDbBE=  ...        20171223\n",
              "4  3WUnEKYdIe9wZA7HOVnlDaF2MKBvakc4qiIDbyw4d7w=  ...        20171001\n",
              "\n",
              "[5 rows x 18 columns]"
            ]
          },
          "metadata": {
            "tags": []
          },
          "execution_count": 26
        }
      ]
    },
    {
      "cell_type": "code",
      "metadata": {
        "colab": {
          "base_uri": "https://localhost:8080/"
        },
        "id": "NS7GAo3fvJAM",
        "outputId": "ef972ba6-1a1a-4374-c5a8-cc36b31add78"
      },
      "source": [
        "train.info()"
      ],
      "execution_count": null,
      "outputs": [
        {
          "output_type": "stream",
          "text": [
            "<class 'pandas.core.frame.DataFrame'>\n",
            "Int64Index: 73774 entries, 0 to 73773\n",
            "Data columns (total 18 columns):\n",
            " #   Column                  Non-Null Count  Dtype  \n",
            "---  ------                  --------------  -----  \n",
            " 0   msno                    73774 non-null  object \n",
            " 1   song_id                 73774 non-null  object \n",
            " 2   source_system_tab       73502 non-null  object \n",
            " 3   source_screen_name      69587 non-null  object \n",
            " 4   source_type             73556 non-null  object \n",
            " 5   target                  73774 non-null  int64  \n",
            " 6   song_length             73773 non-null  float64\n",
            " 7   genre_ids               72569 non-null  object \n",
            " 8   artist_name             73773 non-null  object \n",
            " 9   composer                56976 non-null  object \n",
            " 10  lyricist                42129 non-null  object \n",
            " 11  language                73773 non-null  float64\n",
            " 12  city                    73774 non-null  int64  \n",
            " 13  bd                      73774 non-null  int64  \n",
            " 14  gender                  44250 non-null  object \n",
            " 15  registered_via          73774 non-null  int64  \n",
            " 16  registration_init_time  73774 non-null  int64  \n",
            " 17  expiration_date         73774 non-null  int64  \n",
            "dtypes: float64(2), int64(6), object(10)\n",
            "memory usage: 10.7+ MB\n"
          ],
          "name": "stdout"
        }
      ]
    },
    {
      "cell_type": "code",
      "metadata": {
        "colab": {
          "base_uri": "https://localhost:8080/"
        },
        "id": "DceqUfxIvQUF",
        "outputId": "89b529b0-5eb9-4b4e-8810-d23f83e8b962"
      },
      "source": [
        "#Now I will count Null Values in %\n",
        "train.isnull().sum()/train.isnull().count()*100"
      ],
      "execution_count": null,
      "outputs": [
        {
          "output_type": "execute_result",
          "data": {
            "text/plain": [
              "msno                       0.000000\n",
              "song_id                    0.000000\n",
              "source_system_tab          0.368694\n",
              "source_screen_name         5.675441\n",
              "source_type                0.295497\n",
              "target                     0.000000\n",
              "song_length                0.001355\n",
              "genre_ids                  1.633367\n",
              "artist_name                0.001355\n",
              "composer                  22.769539\n",
              "lyricist                  42.894516\n",
              "language                   0.001355\n",
              "city                       0.000000\n",
              "bd                         0.000000\n",
              "gender                    40.019519\n",
              "registered_via             0.000000\n",
              "registration_init_time     0.000000\n",
              "expiration_date            0.000000\n",
              "dtype: float64"
            ]
          },
          "metadata": {
            "tags": []
          },
          "execution_count": 28
        }
      ]
    },
    {
      "cell_type": "code",
      "metadata": {
        "id": "tUANA9NJvlZn"
      },
      "source": [
        "#Most of the Columns are Non Null but some Columns have Null Values, Now Remove Null Values from Columns\n",
        "for i in train.select_dtypes(include=['object']).columns:\n",
        "    train[i][train[i].isnull()] = 'unknown'\n",
        "train = train.fillna(value=0)"
      ],
      "execution_count": null,
      "outputs": []
    },
    {
      "cell_type": "code",
      "metadata": {
        "colab": {
          "base_uri": "https://localhost:8080/"
        },
        "id": "351MP1Agv9Bd",
        "outputId": "9944b5d7-9066-45ac-9cc2-b5b7444def21"
      },
      "source": [
        "#Now I will count Null Values in %\n",
        "train.isnull().sum()/train.isnull().count()*100"
      ],
      "execution_count": null,
      "outputs": [
        {
          "output_type": "execute_result",
          "data": {
            "text/plain": [
              "msno                      0.0\n",
              "song_id                   0.0\n",
              "source_system_tab         0.0\n",
              "source_screen_name        0.0\n",
              "source_type               0.0\n",
              "target                    0.0\n",
              "song_length               0.0\n",
              "genre_ids                 0.0\n",
              "artist_name               0.0\n",
              "composer                  0.0\n",
              "lyricist                  0.0\n",
              "language                  0.0\n",
              "city                      0.0\n",
              "bd                        0.0\n",
              "gender                    0.0\n",
              "registered_via            0.0\n",
              "registration_init_time    0.0\n",
              "expiration_date           0.0\n",
              "dtype: float64"
            ]
          },
          "metadata": {
            "tags": []
          },
          "execution_count": 30
        }
      ]
    },
    {
      "cell_type": "markdown",
      "metadata": {
        "id": "HKx52p23wD3v"
      },
      "source": [
        "There is no null value left in our dataset"
      ]
    },
    {
      "cell_type": "markdown",
      "metadata": {
        "id": "1AabYj0twiRe"
      },
      "source": [
        "Now Changing Date and Time Format"
      ]
    },
    {
      "cell_type": "code",
      "metadata": {
        "id": "U63Uea-4wAhY"
      },
      "source": [
        "# registration_init_time\n",
        "train.registration_init_time = pd.to_datetime(train.registration_init_time, format='%Y%m%d', errors='ignore')\n",
        "train['registration_init_time_year'] = train['registration_init_time'].dt.year\n",
        "train['registration_init_time_month'] = train['registration_init_time'].dt.month\n",
        "train['registration_init_time_day'] = train['registration_init_time'].dt.day\n",
        "\n",
        "# expiration_date\n",
        "train.expiration_date = pd.to_datetime(train.expiration_date,  format='%Y%m%d', errors='ignore')\n",
        "train['expiration_date_year'] = train['expiration_date'].dt.year\n",
        "train['expiration_date_month'] = train['expiration_date'].dt.month\n",
        "train['expiration_date_day'] = train['expiration_date'].dt.day"
      ],
      "execution_count": null,
      "outputs": []
    },
    {
      "cell_type": "code",
      "metadata": {
        "colab": {
          "base_uri": "https://localhost:8080/",
          "height": 343
        },
        "id": "kbXeld0Dwpxd",
        "outputId": "7e84aaf6-d6eb-4292-8bbb-e0006da83d06"
      },
      "source": [
        "train.head()"
      ],
      "execution_count": null,
      "outputs": [
        {
          "output_type": "execute_result",
          "data": {
            "text/html": [
              "<div>\n",
              "<style scoped>\n",
              "    .dataframe tbody tr th:only-of-type {\n",
              "        vertical-align: middle;\n",
              "    }\n",
              "\n",
              "    .dataframe tbody tr th {\n",
              "        vertical-align: top;\n",
              "    }\n",
              "\n",
              "    .dataframe thead th {\n",
              "        text-align: right;\n",
              "    }\n",
              "</style>\n",
              "<table border=\"1\" class=\"dataframe\">\n",
              "  <thead>\n",
              "    <tr style=\"text-align: right;\">\n",
              "      <th></th>\n",
              "      <th>msno</th>\n",
              "      <th>song_id</th>\n",
              "      <th>source_system_tab</th>\n",
              "      <th>source_screen_name</th>\n",
              "      <th>source_type</th>\n",
              "      <th>target</th>\n",
              "      <th>song_length</th>\n",
              "      <th>genre_ids</th>\n",
              "      <th>artist_name</th>\n",
              "      <th>composer</th>\n",
              "      <th>lyricist</th>\n",
              "      <th>language</th>\n",
              "      <th>city</th>\n",
              "      <th>bd</th>\n",
              "      <th>gender</th>\n",
              "      <th>registered_via</th>\n",
              "      <th>registration_init_time</th>\n",
              "      <th>expiration_date</th>\n",
              "      <th>registration_init_time_year</th>\n",
              "      <th>registration_init_time_month</th>\n",
              "      <th>registration_init_time_day</th>\n",
              "      <th>expiration_date_year</th>\n",
              "      <th>expiration_date_month</th>\n",
              "      <th>expiration_date_day</th>\n",
              "    </tr>\n",
              "  </thead>\n",
              "  <tbody>\n",
              "    <tr>\n",
              "      <th>0</th>\n",
              "      <td>w0GjwHIpsIXQeM/2wWGCPKaEfR339CzOHjp2yJ5kxXo=</td>\n",
              "      <td>dKfxhaRKwvhiYOUQ5JlkxQrJ/dDksdFueybCIdG5dXI=</td>\n",
              "      <td>my library</td>\n",
              "      <td>Local playlist more</td>\n",
              "      <td>local-library</td>\n",
              "      <td>1</td>\n",
              "      <td>205224.0</td>\n",
              "      <td>465</td>\n",
              "      <td>Various Artists</td>\n",
              "      <td>Rocoberry</td>\n",
              "      <td>Ji Hoon/GAEMI</td>\n",
              "      <td>31.0</td>\n",
              "      <td>13</td>\n",
              "      <td>29</td>\n",
              "      <td>female</td>\n",
              "      <td>9</td>\n",
              "      <td>2011-06-11</td>\n",
              "      <td>2017-10-22</td>\n",
              "      <td>2011</td>\n",
              "      <td>6</td>\n",
              "      <td>11</td>\n",
              "      <td>2017</td>\n",
              "      <td>10</td>\n",
              "      <td>22</td>\n",
              "    </tr>\n",
              "    <tr>\n",
              "      <th>1</th>\n",
              "      <td>asiRFkuBuPyUKPGB4v+iw5BCwFtRN2paj1tzvNGjF3c=</td>\n",
              "      <td>43Qm2YzsP99P5wm37B1JIhezUcQ/1CDjYlQx6rBbz2U=</td>\n",
              "      <td>my library</td>\n",
              "      <td>Local playlist more</td>\n",
              "      <td>local-library</td>\n",
              "      <td>0</td>\n",
              "      <td>346272.0</td>\n",
              "      <td>458</td>\n",
              "      <td>五月天 (Mayday)</td>\n",
              "      <td>怪獸</td>\n",
              "      <td>阿信</td>\n",
              "      <td>3.0</td>\n",
              "      <td>1</td>\n",
              "      <td>0</td>\n",
              "      <td>unknown</td>\n",
              "      <td>7</td>\n",
              "      <td>2014-01-02</td>\n",
              "      <td>2017-10-07</td>\n",
              "      <td>2014</td>\n",
              "      <td>1</td>\n",
              "      <td>2</td>\n",
              "      <td>2017</td>\n",
              "      <td>10</td>\n",
              "      <td>7</td>\n",
              "    </tr>\n",
              "    <tr>\n",
              "      <th>2</th>\n",
              "      <td>k4FVXwOW+H6GP5GPklub7jE6bgX4E5Xg9uIxq+BI9iY=</td>\n",
              "      <td>wIyJy+rLR+bjPcVydq6r8sCRm5he7urtV5MsQI9sDak=</td>\n",
              "      <td>discover</td>\n",
              "      <td>Online playlist more</td>\n",
              "      <td>online-playlist</td>\n",
              "      <td>1</td>\n",
              "      <td>193375.0</td>\n",
              "      <td>444</td>\n",
              "      <td>Seohyun</td>\n",
              "      <td>Matthew Tishler| Felicia Barton</td>\n",
              "      <td>unknown</td>\n",
              "      <td>31.0</td>\n",
              "      <td>13</td>\n",
              "      <td>55</td>\n",
              "      <td>male</td>\n",
              "      <td>3</td>\n",
              "      <td>2016-10-16</td>\n",
              "      <td>2017-10-20</td>\n",
              "      <td>2016</td>\n",
              "      <td>10</td>\n",
              "      <td>16</td>\n",
              "      <td>2017</td>\n",
              "      <td>10</td>\n",
              "      <td>20</td>\n",
              "    </tr>\n",
              "    <tr>\n",
              "      <th>3</th>\n",
              "      <td>yanbsb+JxenTqCS2GEc6eGWYUSwnLiuIJVHZLagDbBE=</td>\n",
              "      <td>8IVZCbM67Y08IXGOh7L/xw6YlQUxC8qitkWB91D31WY=</td>\n",
              "      <td>radio</td>\n",
              "      <td>Radio</td>\n",
              "      <td>radio</td>\n",
              "      <td>0</td>\n",
              "      <td>307060.0</td>\n",
              "      <td>786|947</td>\n",
              "      <td>李欣芸 (CinCin Lee)</td>\n",
              "      <td>李欣芸</td>\n",
              "      <td>unknown</td>\n",
              "      <td>-1.0</td>\n",
              "      <td>22</td>\n",
              "      <td>27</td>\n",
              "      <td>female</td>\n",
              "      <td>9</td>\n",
              "      <td>2015-12-04</td>\n",
              "      <td>2017-12-23</td>\n",
              "      <td>2015</td>\n",
              "      <td>12</td>\n",
              "      <td>4</td>\n",
              "      <td>2017</td>\n",
              "      <td>12</td>\n",
              "      <td>23</td>\n",
              "    </tr>\n",
              "    <tr>\n",
              "      <th>4</th>\n",
              "      <td>3WUnEKYdIe9wZA7HOVnlDaF2MKBvakc4qiIDbyw4d7w=</td>\n",
              "      <td>XkvpC4yaPtzNf95XHujV5rFi6T+irQ7jLW/A6sVXjdI=</td>\n",
              "      <td>my library</td>\n",
              "      <td>Local playlist more</td>\n",
              "      <td>local-playlist</td>\n",
              "      <td>1</td>\n",
              "      <td>280659.0</td>\n",
              "      <td>458</td>\n",
              "      <td>周杰倫 (Jay Chou)</td>\n",
              "      <td>周杰倫</td>\n",
              "      <td>黃淩嘉</td>\n",
              "      <td>3.0</td>\n",
              "      <td>6</td>\n",
              "      <td>28</td>\n",
              "      <td>female</td>\n",
              "      <td>9</td>\n",
              "      <td>2009-01-20</td>\n",
              "      <td>2017-10-01</td>\n",
              "      <td>2009</td>\n",
              "      <td>1</td>\n",
              "      <td>20</td>\n",
              "      <td>2017</td>\n",
              "      <td>10</td>\n",
              "      <td>1</td>\n",
              "    </tr>\n",
              "  </tbody>\n",
              "</table>\n",
              "</div>"
            ],
            "text/plain": [
              "                                           msno  ... expiration_date_day\n",
              "0  w0GjwHIpsIXQeM/2wWGCPKaEfR339CzOHjp2yJ5kxXo=  ...                  22\n",
              "1  asiRFkuBuPyUKPGB4v+iw5BCwFtRN2paj1tzvNGjF3c=  ...                   7\n",
              "2  k4FVXwOW+H6GP5GPklub7jE6bgX4E5Xg9uIxq+BI9iY=  ...                  20\n",
              "3  yanbsb+JxenTqCS2GEc6eGWYUSwnLiuIJVHZLagDbBE=  ...                  23\n",
              "4  3WUnEKYdIe9wZA7HOVnlDaF2MKBvakc4qiIDbyw4d7w=  ...                   1\n",
              "\n",
              "[5 rows x 24 columns]"
            ]
          },
          "metadata": {
            "tags": []
          },
          "execution_count": 32
        }
      ]
    },
    {
      "cell_type": "code",
      "metadata": {
        "id": "uFOlonmkwt4C"
      },
      "source": [
        "\n",
        "# Changing Dates to category\n",
        "train['registration_init_time'] = train['registration_init_time'].astype('category')\n",
        "train['expiration_date'] = train['expiration_date'].astype('category')"
      ],
      "execution_count": null,
      "outputs": []
    },
    {
      "cell_type": "code",
      "metadata": {
        "colab": {
          "base_uri": "https://localhost:8080/",
          "height": 343
        },
        "id": "oFQFWeiVw2nH",
        "outputId": "f35a5041-2325-40cf-b8c2-ac67a680892e"
      },
      "source": [
        "train.head()"
      ],
      "execution_count": null,
      "outputs": [
        {
          "output_type": "execute_result",
          "data": {
            "text/html": [
              "<div>\n",
              "<style scoped>\n",
              "    .dataframe tbody tr th:only-of-type {\n",
              "        vertical-align: middle;\n",
              "    }\n",
              "\n",
              "    .dataframe tbody tr th {\n",
              "        vertical-align: top;\n",
              "    }\n",
              "\n",
              "    .dataframe thead th {\n",
              "        text-align: right;\n",
              "    }\n",
              "</style>\n",
              "<table border=\"1\" class=\"dataframe\">\n",
              "  <thead>\n",
              "    <tr style=\"text-align: right;\">\n",
              "      <th></th>\n",
              "      <th>msno</th>\n",
              "      <th>song_id</th>\n",
              "      <th>source_system_tab</th>\n",
              "      <th>source_screen_name</th>\n",
              "      <th>source_type</th>\n",
              "      <th>target</th>\n",
              "      <th>song_length</th>\n",
              "      <th>genre_ids</th>\n",
              "      <th>artist_name</th>\n",
              "      <th>composer</th>\n",
              "      <th>lyricist</th>\n",
              "      <th>language</th>\n",
              "      <th>city</th>\n",
              "      <th>bd</th>\n",
              "      <th>gender</th>\n",
              "      <th>registered_via</th>\n",
              "      <th>registration_init_time</th>\n",
              "      <th>expiration_date</th>\n",
              "      <th>registration_init_time_year</th>\n",
              "      <th>registration_init_time_month</th>\n",
              "      <th>registration_init_time_day</th>\n",
              "      <th>expiration_date_year</th>\n",
              "      <th>expiration_date_month</th>\n",
              "      <th>expiration_date_day</th>\n",
              "    </tr>\n",
              "  </thead>\n",
              "  <tbody>\n",
              "    <tr>\n",
              "      <th>0</th>\n",
              "      <td>w0GjwHIpsIXQeM/2wWGCPKaEfR339CzOHjp2yJ5kxXo=</td>\n",
              "      <td>dKfxhaRKwvhiYOUQ5JlkxQrJ/dDksdFueybCIdG5dXI=</td>\n",
              "      <td>my library</td>\n",
              "      <td>Local playlist more</td>\n",
              "      <td>local-library</td>\n",
              "      <td>1</td>\n",
              "      <td>205224.0</td>\n",
              "      <td>465</td>\n",
              "      <td>Various Artists</td>\n",
              "      <td>Rocoberry</td>\n",
              "      <td>Ji Hoon/GAEMI</td>\n",
              "      <td>31.0</td>\n",
              "      <td>13</td>\n",
              "      <td>29</td>\n",
              "      <td>female</td>\n",
              "      <td>9</td>\n",
              "      <td>2011-06-11</td>\n",
              "      <td>2017-10-22</td>\n",
              "      <td>2011</td>\n",
              "      <td>6</td>\n",
              "      <td>11</td>\n",
              "      <td>2017</td>\n",
              "      <td>10</td>\n",
              "      <td>22</td>\n",
              "    </tr>\n",
              "    <tr>\n",
              "      <th>1</th>\n",
              "      <td>asiRFkuBuPyUKPGB4v+iw5BCwFtRN2paj1tzvNGjF3c=</td>\n",
              "      <td>43Qm2YzsP99P5wm37B1JIhezUcQ/1CDjYlQx6rBbz2U=</td>\n",
              "      <td>my library</td>\n",
              "      <td>Local playlist more</td>\n",
              "      <td>local-library</td>\n",
              "      <td>0</td>\n",
              "      <td>346272.0</td>\n",
              "      <td>458</td>\n",
              "      <td>五月天 (Mayday)</td>\n",
              "      <td>怪獸</td>\n",
              "      <td>阿信</td>\n",
              "      <td>3.0</td>\n",
              "      <td>1</td>\n",
              "      <td>0</td>\n",
              "      <td>unknown</td>\n",
              "      <td>7</td>\n",
              "      <td>2014-01-02</td>\n",
              "      <td>2017-10-07</td>\n",
              "      <td>2014</td>\n",
              "      <td>1</td>\n",
              "      <td>2</td>\n",
              "      <td>2017</td>\n",
              "      <td>10</td>\n",
              "      <td>7</td>\n",
              "    </tr>\n",
              "    <tr>\n",
              "      <th>2</th>\n",
              "      <td>k4FVXwOW+H6GP5GPklub7jE6bgX4E5Xg9uIxq+BI9iY=</td>\n",
              "      <td>wIyJy+rLR+bjPcVydq6r8sCRm5he7urtV5MsQI9sDak=</td>\n",
              "      <td>discover</td>\n",
              "      <td>Online playlist more</td>\n",
              "      <td>online-playlist</td>\n",
              "      <td>1</td>\n",
              "      <td>193375.0</td>\n",
              "      <td>444</td>\n",
              "      <td>Seohyun</td>\n",
              "      <td>Matthew Tishler| Felicia Barton</td>\n",
              "      <td>unknown</td>\n",
              "      <td>31.0</td>\n",
              "      <td>13</td>\n",
              "      <td>55</td>\n",
              "      <td>male</td>\n",
              "      <td>3</td>\n",
              "      <td>2016-10-16</td>\n",
              "      <td>2017-10-20</td>\n",
              "      <td>2016</td>\n",
              "      <td>10</td>\n",
              "      <td>16</td>\n",
              "      <td>2017</td>\n",
              "      <td>10</td>\n",
              "      <td>20</td>\n",
              "    </tr>\n",
              "    <tr>\n",
              "      <th>3</th>\n",
              "      <td>yanbsb+JxenTqCS2GEc6eGWYUSwnLiuIJVHZLagDbBE=</td>\n",
              "      <td>8IVZCbM67Y08IXGOh7L/xw6YlQUxC8qitkWB91D31WY=</td>\n",
              "      <td>radio</td>\n",
              "      <td>Radio</td>\n",
              "      <td>radio</td>\n",
              "      <td>0</td>\n",
              "      <td>307060.0</td>\n",
              "      <td>786|947</td>\n",
              "      <td>李欣芸 (CinCin Lee)</td>\n",
              "      <td>李欣芸</td>\n",
              "      <td>unknown</td>\n",
              "      <td>-1.0</td>\n",
              "      <td>22</td>\n",
              "      <td>27</td>\n",
              "      <td>female</td>\n",
              "      <td>9</td>\n",
              "      <td>2015-12-04</td>\n",
              "      <td>2017-12-23</td>\n",
              "      <td>2015</td>\n",
              "      <td>12</td>\n",
              "      <td>4</td>\n",
              "      <td>2017</td>\n",
              "      <td>12</td>\n",
              "      <td>23</td>\n",
              "    </tr>\n",
              "    <tr>\n",
              "      <th>4</th>\n",
              "      <td>3WUnEKYdIe9wZA7HOVnlDaF2MKBvakc4qiIDbyw4d7w=</td>\n",
              "      <td>XkvpC4yaPtzNf95XHujV5rFi6T+irQ7jLW/A6sVXjdI=</td>\n",
              "      <td>my library</td>\n",
              "      <td>Local playlist more</td>\n",
              "      <td>local-playlist</td>\n",
              "      <td>1</td>\n",
              "      <td>280659.0</td>\n",
              "      <td>458</td>\n",
              "      <td>周杰倫 (Jay Chou)</td>\n",
              "      <td>周杰倫</td>\n",
              "      <td>黃淩嘉</td>\n",
              "      <td>3.0</td>\n",
              "      <td>6</td>\n",
              "      <td>28</td>\n",
              "      <td>female</td>\n",
              "      <td>9</td>\n",
              "      <td>2009-01-20</td>\n",
              "      <td>2017-10-01</td>\n",
              "      <td>2009</td>\n",
              "      <td>1</td>\n",
              "      <td>20</td>\n",
              "      <td>2017</td>\n",
              "      <td>10</td>\n",
              "      <td>1</td>\n",
              "    </tr>\n",
              "  </tbody>\n",
              "</table>\n",
              "</div>"
            ],
            "text/plain": [
              "                                           msno  ... expiration_date_day\n",
              "0  w0GjwHIpsIXQeM/2wWGCPKaEfR339CzOHjp2yJ5kxXo=  ...                  22\n",
              "1  asiRFkuBuPyUKPGB4v+iw5BCwFtRN2paj1tzvNGjF3c=  ...                   7\n",
              "2  k4FVXwOW+H6GP5GPklub7jE6bgX4E5Xg9uIxq+BI9iY=  ...                  20\n",
              "3  yanbsb+JxenTqCS2GEc6eGWYUSwnLiuIJVHZLagDbBE=  ...                  23\n",
              "4  3WUnEKYdIe9wZA7HOVnlDaF2MKBvakc4qiIDbyw4d7w=  ...                   1\n",
              "\n",
              "[5 rows x 24 columns]"
            ]
          },
          "metadata": {
            "tags": []
          },
          "execution_count": 34
        }
      ]
    },
    {
      "cell_type": "code",
      "metadata": {
        "id": "zM8szXNVw5Wq"
      },
      "source": [
        "# Object data to category\n",
        "for col in train.select_dtypes(include=['object']).columns:\n",
        "    train[col] = train[col].astype('category')\n",
        "    \n",
        "# Encoding categorical features\n",
        "for col in train.select_dtypes(include=['category']).columns:\n",
        "    train[col] = train[col].cat.codes"
      ],
      "execution_count": null,
      "outputs": []
    },
    {
      "cell_type": "code",
      "metadata": {
        "colab": {
          "base_uri": "https://localhost:8080/",
          "height": 224
        },
        "id": "hfCbbbHKxMMa",
        "outputId": "f8fe59d4-67e5-4d68-ca0c-9807210e25ea"
      },
      "source": [
        "train.head()"
      ],
      "execution_count": null,
      "outputs": [
        {
          "output_type": "execute_result",
          "data": {
            "text/html": [
              "<div>\n",
              "<style scoped>\n",
              "    .dataframe tbody tr th:only-of-type {\n",
              "        vertical-align: middle;\n",
              "    }\n",
              "\n",
              "    .dataframe tbody tr th {\n",
              "        vertical-align: top;\n",
              "    }\n",
              "\n",
              "    .dataframe thead th {\n",
              "        text-align: right;\n",
              "    }\n",
              "</style>\n",
              "<table border=\"1\" class=\"dataframe\">\n",
              "  <thead>\n",
              "    <tr style=\"text-align: right;\">\n",
              "      <th></th>\n",
              "      <th>msno</th>\n",
              "      <th>song_id</th>\n",
              "      <th>source_system_tab</th>\n",
              "      <th>source_screen_name</th>\n",
              "      <th>source_type</th>\n",
              "      <th>target</th>\n",
              "      <th>song_length</th>\n",
              "      <th>genre_ids</th>\n",
              "      <th>artist_name</th>\n",
              "      <th>composer</th>\n",
              "      <th>lyricist</th>\n",
              "      <th>language</th>\n",
              "      <th>city</th>\n",
              "      <th>bd</th>\n",
              "      <th>gender</th>\n",
              "      <th>registered_via</th>\n",
              "      <th>registration_init_time</th>\n",
              "      <th>expiration_date</th>\n",
              "      <th>registration_init_time_year</th>\n",
              "      <th>registration_init_time_month</th>\n",
              "      <th>registration_init_time_day</th>\n",
              "      <th>expiration_date_year</th>\n",
              "      <th>expiration_date_month</th>\n",
              "      <th>expiration_date_day</th>\n",
              "    </tr>\n",
              "  </thead>\n",
              "  <tbody>\n",
              "    <tr>\n",
              "      <th>0</th>\n",
              "      <td>17621</td>\n",
              "      <td>17587</td>\n",
              "      <td>3</td>\n",
              "      <td>7</td>\n",
              "      <td>3</td>\n",
              "      <td>1</td>\n",
              "      <td>205224.0</td>\n",
              "      <td>140</td>\n",
              "      <td>4426</td>\n",
              "      <td>5888</td>\n",
              "      <td>1269</td>\n",
              "      <td>31.0</td>\n",
              "      <td>13</td>\n",
              "      <td>29</td>\n",
              "      <td>0</td>\n",
              "      <td>9</td>\n",
              "      <td>1727</td>\n",
              "      <td>609</td>\n",
              "      <td>2011</td>\n",
              "      <td>6</td>\n",
              "      <td>11</td>\n",
              "      <td>2017</td>\n",
              "      <td>10</td>\n",
              "      <td>22</td>\n",
              "    </tr>\n",
              "    <tr>\n",
              "      <th>1</th>\n",
              "      <td>11410</td>\n",
              "      <td>2699</td>\n",
              "      <td>3</td>\n",
              "      <td>7</td>\n",
              "      <td>3</td>\n",
              "      <td>0</td>\n",
              "      <td>346272.0</td>\n",
              "      <td>138</td>\n",
              "      <td>4845</td>\n",
              "      <td>8399</td>\n",
              "      <td>5265</td>\n",
              "      <td>3.0</td>\n",
              "      <td>1</td>\n",
              "      <td>0</td>\n",
              "      <td>2</td>\n",
              "      <td>7</td>\n",
              "      <td>2546</td>\n",
              "      <td>594</td>\n",
              "      <td>2014</td>\n",
              "      <td>1</td>\n",
              "      <td>2</td>\n",
              "      <td>2017</td>\n",
              "      <td>10</td>\n",
              "      <td>7</td>\n",
              "    </tr>\n",
              "    <tr>\n",
              "      <th>2</th>\n",
              "      <td>14067</td>\n",
              "      <td>25825</td>\n",
              "      <td>0</td>\n",
              "      <td>10</td>\n",
              "      <td>6</td>\n",
              "      <td>1</td>\n",
              "      <td>193375.0</td>\n",
              "      <td>129</td>\n",
              "      <td>3617</td>\n",
              "      <td>4862</td>\n",
              "      <td>3189</td>\n",
              "      <td>31.0</td>\n",
              "      <td>13</td>\n",
              "      <td>55</td>\n",
              "      <td>1</td>\n",
              "      <td>3</td>\n",
              "      <td>3493</td>\n",
              "      <td>607</td>\n",
              "      <td>2016</td>\n",
              "      <td>10</td>\n",
              "      <td>16</td>\n",
              "      <td>2017</td>\n",
              "      <td>10</td>\n",
              "      <td>20</td>\n",
              "    </tr>\n",
              "    <tr>\n",
              "      <th>3</th>\n",
              "      <td>18315</td>\n",
              "      <td>4499</td>\n",
              "      <td>5</td>\n",
              "      <td>12</td>\n",
              "      <td>7</td>\n",
              "      <td>0</td>\n",
              "      <td>307060.0</td>\n",
              "      <td>180</td>\n",
              "      <td>5549</td>\n",
              "      <td>8563</td>\n",
              "      <td>3189</td>\n",
              "      <td>-1.0</td>\n",
              "      <td>22</td>\n",
              "      <td>27</td>\n",
              "      <td>0</td>\n",
              "      <td>9</td>\n",
              "      <td>3241</td>\n",
              "      <td>671</td>\n",
              "      <td>2015</td>\n",
              "      <td>12</td>\n",
              "      <td>4</td>\n",
              "      <td>2017</td>\n",
              "      <td>12</td>\n",
              "      <td>23</td>\n",
              "    </tr>\n",
              "    <tr>\n",
              "      <th>4</th>\n",
              "      <td>1596</td>\n",
              "      <td>15202</td>\n",
              "      <td>3</td>\n",
              "      <td>7</td>\n",
              "      <td>4</td>\n",
              "      <td>1</td>\n",
              "      <td>280659.0</td>\n",
              "      <td>138</td>\n",
              "      <td>5063</td>\n",
              "      <td>7990</td>\n",
              "      <td>5629</td>\n",
              "      <td>3.0</td>\n",
              "      <td>6</td>\n",
              "      <td>28</td>\n",
              "      <td>0</td>\n",
              "      <td>9</td>\n",
              "      <td>1041</td>\n",
              "      <td>588</td>\n",
              "      <td>2009</td>\n",
              "      <td>1</td>\n",
              "      <td>20</td>\n",
              "      <td>2017</td>\n",
              "      <td>10</td>\n",
              "      <td>1</td>\n",
              "    </tr>\n",
              "  </tbody>\n",
              "</table>\n",
              "</div>"
            ],
            "text/plain": [
              "    msno  song_id  ...  expiration_date_month  expiration_date_day\n",
              "0  17621    17587  ...                     10                   22\n",
              "1  11410     2699  ...                     10                    7\n",
              "2  14067    25825  ...                     10                   20\n",
              "3  18315     4499  ...                     12                   23\n",
              "4   1596    15202  ...                     10                    1\n",
              "\n",
              "[5 rows x 24 columns]"
            ]
          },
          "metadata": {
            "tags": []
          },
          "execution_count": 36
        }
      ]
    },
    {
      "cell_type": "markdown",
      "metadata": {
        "id": "iA81r87gxoIR"
      },
      "source": [
        "Now drop those columns which are not required for training"
      ]
    },
    {
      "cell_type": "code",
      "metadata": {
        "id": "VyJ5Lg-ExOsK"
      },
      "source": [
        "\n",
        "# Drop columns\n",
        "train = train.drop(['expiration_date', 'lyricist'], 1)"
      ],
      "execution_count": null,
      "outputs": []
    },
    {
      "cell_type": "code",
      "metadata": {
        "colab": {
          "base_uri": "https://localhost:8080/"
        },
        "id": "OnwSgdbfxs6f",
        "outputId": "cd869072-4e3b-4914-f36e-ac1c30faf629"
      },
      "source": [
        "train.shape"
      ],
      "execution_count": null,
      "outputs": [
        {
          "output_type": "execute_result",
          "data": {
            "text/plain": [
              "(73774, 22)"
            ]
          },
          "metadata": {
            "tags": []
          },
          "execution_count": 38
        }
      ]
    },
    {
      "cell_type": "markdown",
      "metadata": {
        "id": "W4ZmoMvoxyT6"
      },
      "source": [
        "Done with Data Cleaning Process, Now start training Model"
      ]
    },
    {
      "cell_type": "code",
      "metadata": {
        "id": "YDmVYYZZxxIu"
      },
      "source": [
        "train1=train.copy()"
      ],
      "execution_count": null,
      "outputs": []
    },
    {
      "cell_type": "code",
      "metadata": {
        "id": "faGpONYDyEjb"
      },
      "source": [
        "X_train=train1.drop(['target'],axis=1).values\n",
        "Y_train=train1['target'].values"
      ],
      "execution_count": null,
      "outputs": []
    },
    {
      "cell_type": "code",
      "metadata": {
        "id": "QiTR0tw1yICz"
      },
      "source": [
        "x_train,x_test,y_train,y_test=train_test_split(X_train,Y_train,test_size=0.25)"
      ],
      "execution_count": null,
      "outputs": []
    },
    {
      "cell_type": "code",
      "metadata": {
        "id": "uuG4WQ2ByMAl"
      },
      "source": [
        "from sklearn.ensemble import RandomForestClassifier\n"
      ],
      "execution_count": null,
      "outputs": []
    },
    {
      "cell_type": "code",
      "metadata": {
        "colab": {
          "base_uri": "https://localhost:8080/"
        },
        "id": "8UfOuAxKyRxe",
        "outputId": "3fc9b394-6439-4a3f-a910-15a8fb4ed465"
      },
      "source": [
        "clf = RandomForestClassifier(n_estimators=250, max_depth=25, random_state=0)\n",
        "clf.fit(X_train,Y_train)"
      ],
      "execution_count": null,
      "outputs": [
        {
          "output_type": "execute_result",
          "data": {
            "text/plain": [
              "RandomForestClassifier(bootstrap=True, ccp_alpha=0.0, class_weight=None,\n",
              "                       criterion='gini', max_depth=25, max_features='auto',\n",
              "                       max_leaf_nodes=None, max_samples=None,\n",
              "                       min_impurity_decrease=0.0, min_impurity_split=None,\n",
              "                       min_samples_leaf=1, min_samples_split=2,\n",
              "                       min_weight_fraction_leaf=0.0, n_estimators=250,\n",
              "                       n_jobs=None, oob_score=False, random_state=0, verbose=0,\n",
              "                       warm_start=False)"
            ]
          },
          "metadata": {
            "tags": []
          },
          "execution_count": 43
        }
      ]
    },
    {
      "cell_type": "code",
      "metadata": {
        "colab": {
          "base_uri": "https://localhost:8080/",
          "height": 354
        },
        "id": "iWJbSj0TySjj",
        "outputId": "3cebf749-cf30-4d22-e160-0cf0b28e2cff"
      },
      "source": [
        "train_plot = pd.DataFrame({'features': train.columns[train.columns != 'target'],\n",
        "                        'importances': clf.feature_importances_})\n",
        "train_plot = train_plot.sort_values('importances', ascending=False)\n",
        "\n",
        "plt.figure(figsize=[11,5])\n",
        "sns.barplot(x = train_plot.importances, y = train_plot.features)\n",
        "plt.title('Importances of Features')\n",
        "plt.show()"
      ],
      "execution_count": null,
      "outputs": [
        {
          "output_type": "display_data",
          "data": {
            "image/png": "[encoded data removed]",
            "text/plain": [
              "<Figure size 792x360 with 1 Axes>"
            ]
          },
          "metadata": {
            "tags": []
          }
        }
      ]
    },
    {
      "cell_type": "code",
      "metadata": {
        "id": "0kijNCMKzrvA"
      },
      "source": [
        "train2=train.copy()"
      ],
      "execution_count": null,
      "outputs": []
    },
    {
      "cell_type": "code",
      "metadata": {
        "colab": {
          "base_uri": "https://localhost:8080/"
        },
        "id": "XL_tzUMs0ClS",
        "outputId": "e2d754c9-acbe-4396-da79-28db6ef3510d"
      },
      "source": [
        "# Drop columns with importances < 0.04\n",
        "train2 = train2.drop(train_plot.features[train_plot.importances < 0.04].tolist(), 1)\n",
        "\n",
        "# Selected columns\n",
        "train2.columns"
      ],
      "execution_count": null,
      "outputs": [
        {
          "output_type": "execute_result",
          "data": {
            "text/plain": [
              "Index(['msno', 'song_id', 'source_screen_name', 'source_type', 'target',\n",
              "       'song_length', 'artist_name', 'composer', 'bd',\n",
              "       'registration_init_time', 'registration_init_time_month',\n",
              "       'registration_init_time_day', 'expiration_date_day'],\n",
              "      dtype='object')"
            ]
          },
          "metadata": {
            "tags": []
          },
          "execution_count": 47
        }
      ]
    },
    {
      "cell_type": "code",
      "metadata": {
        "id": "n_IUYREh0G2L"
      },
      "source": [
        "# Train & Test split\n",
        "train3=train.copy()\n",
        "\n",
        "X_train1=train3.drop(['target'],axis=1).values\n",
        "Y_train1=train3['target'].values\n",
        "\n",
        "x_train,x_test,y_train,y_test=train_test_split(X_train1,Y_train1,test_size=0.25)"
      ],
      "execution_count": null,
      "outputs": []
    },
    {
      "cell_type": "code",
      "metadata": {
        "colab": {
          "base_uri": "https://localhost:8080/"
        },
        "id": "WQ0ClAtt0Us0",
        "outputId": "f8a660a1-cf62-489d-e667-096974a69f2f"
      },
      "source": [
        "# Create model\n",
        "model2 = xgb.XGBClassifier(learning_rate=0.1, max_depth=15, min_child_weight=5, n_estimators=250)\n",
        "model2.fit(X_train1, Y_train1)"
      ],
      "execution_count": null,
      "outputs": [
        {
          "output_type": "execute_result",
          "data": {
            "text/plain": [
              "XGBClassifier(base_score=0.5, booster='gbtree', colsample_bylevel=1,\n",
              "              colsample_bynode=1, colsample_bytree=1, gamma=0,\n",
              "              learning_rate=0.1, max_delta_step=0, max_depth=15,\n",
              "              min_child_weight=5, missing=None, n_estimators=250, n_jobs=1,\n",
              "              nthread=None, objective='binary:logistic', random_state=0,\n",
              "              reg_alpha=0, reg_lambda=1, scale_pos_weight=1, seed=None,\n",
              "              silent=None, subsample=1, verbosity=1)"
            ]
          },
          "metadata": {
            "tags": []
          },
          "execution_count": 49
        }
      ]
    },
    {
      "cell_type": "code",
      "metadata": {
        "id": "mGG4n8ej0bnr"
      },
      "source": [
        "# Predicting\n",
        "Prediction = model2.predict(x_test)"
      ],
      "execution_count": null,
      "outputs": []
    },
    {
      "cell_type": "code",
      "metadata": {
        "colab": {
          "base_uri": "https://localhost:8080/"
        },
        "id": "Of84Faxy2AsH",
        "outputId": "4b413839-811d-4c39-c11e-32f7b94775c6"
      },
      "source": [
        "from sklearn import metrics\n",
        "\n",
        "print(metrics.classification_report(y_test, Prediction))"
      ],
      "execution_count": null,
      "outputs": [
        {
          "output_type": "stream",
          "text": [
            "              precision    recall  f1-score   support\n",
            "\n",
            "           0       0.99      0.96      0.97      9228\n",
            "           1       0.96      0.99      0.98      9216\n",
            "\n",
            "    accuracy                           0.97     18444\n",
            "   macro avg       0.98      0.97      0.97     18444\n",
            "weighted avg       0.98      0.97      0.97     18444\n",
            "\n"
          ],
          "name": "stdout"
        }
      ]
    },
    {
      "cell_type": "markdown",
      "metadata": {
        "id": "4vYuyW-l2JZL"
      },
      "source": [
        "97% Accuracy recorded, It is highest using XGBoost"
      ]
    },
    {
      "cell_type": "code",
      "metadata": {
        "id": "xrqf1fPu2U8O"
      },
      "source": [
        ""
      ],
      "execution_count": null,
      "outputs": []
    }
  ]
}